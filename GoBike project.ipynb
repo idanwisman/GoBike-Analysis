{
 "cells": [
  {
   "cell_type": "markdown",
   "id": "1987e64c",
   "metadata": {},
   "source": [
    "# Bike-Sharing Data Exploration\n",
    "# By Idan Wisman\n",
    "\n",
    "Ford GoBike System Data: This data set includes information about individual rides made in a bike-sharing system covering the greater San Francisco Bay area\n",
    "\n"
   ]
  },
  {
   "cell_type": "markdown",
   "id": "d48d324e",
   "metadata": {},
   "source": [
    "## First I would want to explore and clean the dataset"
   ]
  },
  {
   "cell_type": "code",
   "execution_count": 242,
   "id": "1a7f028b",
   "metadata": {},
   "outputs": [],
   "source": [
    "# import all packages and set plots to be embedded inline\n",
    "import numpy as np\n",
    "import pandas as pd\n",
    "import seaborn as sns\n",
    "import matplotlib.pyplot as plt\n",
    "%matplotlib inline\n",
    "sns.set_style(\"darkgrid\")"
   ]
  },
  {
   "cell_type": "code",
   "execution_count": 243,
   "id": "dde1644c",
   "metadata": {},
   "outputs": [
    {
     "data": {
      "text/html": [
       "<div>\n",
       "<style scoped>\n",
       "    .dataframe tbody tr th:only-of-type {\n",
       "        vertical-align: middle;\n",
       "    }\n",
       "\n",
       "    .dataframe tbody tr th {\n",
       "        vertical-align: top;\n",
       "    }\n",
       "\n",
       "    .dataframe thead th {\n",
       "        text-align: right;\n",
       "    }\n",
       "</style>\n",
       "<table border=\"1\" class=\"dataframe\">\n",
       "  <thead>\n",
       "    <tr style=\"text-align: right;\">\n",
       "      <th></th>\n",
       "      <th>duration_sec</th>\n",
       "      <th>start_time</th>\n",
       "      <th>end_time</th>\n",
       "      <th>start_station_id</th>\n",
       "      <th>start_station_name</th>\n",
       "      <th>start_station_latitude</th>\n",
       "      <th>start_station_longitude</th>\n",
       "      <th>end_station_id</th>\n",
       "      <th>end_station_name</th>\n",
       "      <th>end_station_latitude</th>\n",
       "      <th>end_station_longitude</th>\n",
       "      <th>bike_id</th>\n",
       "      <th>user_type</th>\n",
       "      <th>member_birth_year</th>\n",
       "      <th>member_gender</th>\n",
       "      <th>bike_share_for_all_trip</th>\n",
       "    </tr>\n",
       "  </thead>\n",
       "  <tbody>\n",
       "    <tr>\n",
       "      <th>0</th>\n",
       "      <td>52185</td>\n",
       "      <td>2019-02-28 17:32:10.1450</td>\n",
       "      <td>2019-03-01 08:01:55.9750</td>\n",
       "      <td>21.0</td>\n",
       "      <td>Montgomery St BART Station (Market St at 2nd St)</td>\n",
       "      <td>37.789625</td>\n",
       "      <td>-122.400811</td>\n",
       "      <td>13.0</td>\n",
       "      <td>Commercial St at Montgomery St</td>\n",
       "      <td>37.794231</td>\n",
       "      <td>-122.402923</td>\n",
       "      <td>4902</td>\n",
       "      <td>Customer</td>\n",
       "      <td>1984.0</td>\n",
       "      <td>Male</td>\n",
       "      <td>No</td>\n",
       "    </tr>\n",
       "    <tr>\n",
       "      <th>1</th>\n",
       "      <td>42521</td>\n",
       "      <td>2019-02-28 18:53:21.7890</td>\n",
       "      <td>2019-03-01 06:42:03.0560</td>\n",
       "      <td>23.0</td>\n",
       "      <td>The Embarcadero at Steuart St</td>\n",
       "      <td>37.791464</td>\n",
       "      <td>-122.391034</td>\n",
       "      <td>81.0</td>\n",
       "      <td>Berry St at 4th St</td>\n",
       "      <td>37.775880</td>\n",
       "      <td>-122.393170</td>\n",
       "      <td>2535</td>\n",
       "      <td>Customer</td>\n",
       "      <td>NaN</td>\n",
       "      <td>NaN</td>\n",
       "      <td>No</td>\n",
       "    </tr>\n",
       "    <tr>\n",
       "      <th>2</th>\n",
       "      <td>61854</td>\n",
       "      <td>2019-02-28 12:13:13.2180</td>\n",
       "      <td>2019-03-01 05:24:08.1460</td>\n",
       "      <td>86.0</td>\n",
       "      <td>Market St at Dolores St</td>\n",
       "      <td>37.769305</td>\n",
       "      <td>-122.426826</td>\n",
       "      <td>3.0</td>\n",
       "      <td>Powell St BART Station (Market St at 4th St)</td>\n",
       "      <td>37.786375</td>\n",
       "      <td>-122.404904</td>\n",
       "      <td>5905</td>\n",
       "      <td>Customer</td>\n",
       "      <td>1972.0</td>\n",
       "      <td>Male</td>\n",
       "      <td>No</td>\n",
       "    </tr>\n",
       "    <tr>\n",
       "      <th>3</th>\n",
       "      <td>36490</td>\n",
       "      <td>2019-02-28 17:54:26.0100</td>\n",
       "      <td>2019-03-01 04:02:36.8420</td>\n",
       "      <td>375.0</td>\n",
       "      <td>Grove St at Masonic Ave</td>\n",
       "      <td>37.774836</td>\n",
       "      <td>-122.446546</td>\n",
       "      <td>70.0</td>\n",
       "      <td>Central Ave at Fell St</td>\n",
       "      <td>37.773311</td>\n",
       "      <td>-122.444293</td>\n",
       "      <td>6638</td>\n",
       "      <td>Subscriber</td>\n",
       "      <td>1989.0</td>\n",
       "      <td>Other</td>\n",
       "      <td>No</td>\n",
       "    </tr>\n",
       "    <tr>\n",
       "      <th>4</th>\n",
       "      <td>1585</td>\n",
       "      <td>2019-02-28 23:54:18.5490</td>\n",
       "      <td>2019-03-01 00:20:44.0740</td>\n",
       "      <td>7.0</td>\n",
       "      <td>Frank H Ogawa Plaza</td>\n",
       "      <td>37.804562</td>\n",
       "      <td>-122.271738</td>\n",
       "      <td>222.0</td>\n",
       "      <td>10th Ave at E 15th St</td>\n",
       "      <td>37.792714</td>\n",
       "      <td>-122.248780</td>\n",
       "      <td>4898</td>\n",
       "      <td>Subscriber</td>\n",
       "      <td>1974.0</td>\n",
       "      <td>Male</td>\n",
       "      <td>Yes</td>\n",
       "    </tr>\n",
       "  </tbody>\n",
       "</table>\n",
       "</div>"
      ],
      "text/plain": [
       "   duration_sec                start_time                  end_time  \\\n",
       "0         52185  2019-02-28 17:32:10.1450  2019-03-01 08:01:55.9750   \n",
       "1         42521  2019-02-28 18:53:21.7890  2019-03-01 06:42:03.0560   \n",
       "2         61854  2019-02-28 12:13:13.2180  2019-03-01 05:24:08.1460   \n",
       "3         36490  2019-02-28 17:54:26.0100  2019-03-01 04:02:36.8420   \n",
       "4          1585  2019-02-28 23:54:18.5490  2019-03-01 00:20:44.0740   \n",
       "\n",
       "   start_station_id                                start_station_name  \\\n",
       "0              21.0  Montgomery St BART Station (Market St at 2nd St)   \n",
       "1              23.0                     The Embarcadero at Steuart St   \n",
       "2              86.0                           Market St at Dolores St   \n",
       "3             375.0                           Grove St at Masonic Ave   \n",
       "4               7.0                               Frank H Ogawa Plaza   \n",
       "\n",
       "   start_station_latitude  start_station_longitude  end_station_id  \\\n",
       "0               37.789625              -122.400811            13.0   \n",
       "1               37.791464              -122.391034            81.0   \n",
       "2               37.769305              -122.426826             3.0   \n",
       "3               37.774836              -122.446546            70.0   \n",
       "4               37.804562              -122.271738           222.0   \n",
       "\n",
       "                               end_station_name  end_station_latitude  \\\n",
       "0                Commercial St at Montgomery St             37.794231   \n",
       "1                            Berry St at 4th St             37.775880   \n",
       "2  Powell St BART Station (Market St at 4th St)             37.786375   \n",
       "3                        Central Ave at Fell St             37.773311   \n",
       "4                         10th Ave at E 15th St             37.792714   \n",
       "\n",
       "   end_station_longitude  bike_id   user_type  member_birth_year  \\\n",
       "0            -122.402923     4902    Customer             1984.0   \n",
       "1            -122.393170     2535    Customer                NaN   \n",
       "2            -122.404904     5905    Customer             1972.0   \n",
       "3            -122.444293     6638  Subscriber             1989.0   \n",
       "4            -122.248780     4898  Subscriber             1974.0   \n",
       "\n",
       "  member_gender bike_share_for_all_trip  \n",
       "0          Male                      No  \n",
       "1           NaN                      No  \n",
       "2          Male                      No  \n",
       "3         Other                      No  \n",
       "4          Male                     Yes  "
      ]
     },
     "execution_count": 243,
     "metadata": {},
     "output_type": "execute_result"
    }
   ],
   "source": [
    "# load in the dataset into a pandas dataframe, print statistics\n",
    "gobike = pd.read_csv('201902-fordgobike-tripdata.csv')\n",
    "gobike.head()\n"
   ]
  },
  {
   "cell_type": "code",
   "execution_count": 244,
   "id": "c580e788",
   "metadata": {},
   "outputs": [
    {
     "data": {
      "text/html": [
       "<div>\n",
       "<style scoped>\n",
       "    .dataframe tbody tr th:only-of-type {\n",
       "        vertical-align: middle;\n",
       "    }\n",
       "\n",
       "    .dataframe tbody tr th {\n",
       "        vertical-align: top;\n",
       "    }\n",
       "\n",
       "    .dataframe thead th {\n",
       "        text-align: right;\n",
       "    }\n",
       "</style>\n",
       "<table border=\"1\" class=\"dataframe\">\n",
       "  <thead>\n",
       "    <tr style=\"text-align: right;\">\n",
       "      <th></th>\n",
       "      <th>duration_sec</th>\n",
       "      <th>start_time</th>\n",
       "      <th>end_time</th>\n",
       "      <th>start_station_id</th>\n",
       "      <th>start_station_name</th>\n",
       "      <th>start_station_latitude</th>\n",
       "      <th>start_station_longitude</th>\n",
       "      <th>end_station_id</th>\n",
       "      <th>end_station_name</th>\n",
       "      <th>end_station_latitude</th>\n",
       "      <th>end_station_longitude</th>\n",
       "      <th>bike_id</th>\n",
       "      <th>user_type</th>\n",
       "      <th>member_birth_year</th>\n",
       "      <th>member_gender</th>\n",
       "      <th>bike_share_for_all_trip</th>\n",
       "    </tr>\n",
       "  </thead>\n",
       "  <tbody>\n",
       "    <tr>\n",
       "      <th>183407</th>\n",
       "      <td>480</td>\n",
       "      <td>2019-02-01 00:04:49.7240</td>\n",
       "      <td>2019-02-01 00:12:50.0340</td>\n",
       "      <td>27.0</td>\n",
       "      <td>Beale St at Harrison St</td>\n",
       "      <td>37.788059</td>\n",
       "      <td>-122.391865</td>\n",
       "      <td>324.0</td>\n",
       "      <td>Union Square (Powell St at Post St)</td>\n",
       "      <td>37.788300</td>\n",
       "      <td>-122.408531</td>\n",
       "      <td>4832</td>\n",
       "      <td>Subscriber</td>\n",
       "      <td>1996.0</td>\n",
       "      <td>Male</td>\n",
       "      <td>No</td>\n",
       "    </tr>\n",
       "    <tr>\n",
       "      <th>183408</th>\n",
       "      <td>313</td>\n",
       "      <td>2019-02-01 00:05:34.7440</td>\n",
       "      <td>2019-02-01 00:10:48.5020</td>\n",
       "      <td>21.0</td>\n",
       "      <td>Montgomery St BART Station (Market St at 2nd St)</td>\n",
       "      <td>37.789625</td>\n",
       "      <td>-122.400811</td>\n",
       "      <td>66.0</td>\n",
       "      <td>3rd St at Townsend St</td>\n",
       "      <td>37.778742</td>\n",
       "      <td>-122.392741</td>\n",
       "      <td>4960</td>\n",
       "      <td>Subscriber</td>\n",
       "      <td>1984.0</td>\n",
       "      <td>Male</td>\n",
       "      <td>No</td>\n",
       "    </tr>\n",
       "    <tr>\n",
       "      <th>183409</th>\n",
       "      <td>141</td>\n",
       "      <td>2019-02-01 00:06:05.5490</td>\n",
       "      <td>2019-02-01 00:08:27.2200</td>\n",
       "      <td>278.0</td>\n",
       "      <td>The Alameda at Bush St</td>\n",
       "      <td>37.331932</td>\n",
       "      <td>-121.904888</td>\n",
       "      <td>277.0</td>\n",
       "      <td>Morrison Ave at Julian St</td>\n",
       "      <td>37.333658</td>\n",
       "      <td>-121.908586</td>\n",
       "      <td>3824</td>\n",
       "      <td>Subscriber</td>\n",
       "      <td>1990.0</td>\n",
       "      <td>Male</td>\n",
       "      <td>Yes</td>\n",
       "    </tr>\n",
       "    <tr>\n",
       "      <th>183410</th>\n",
       "      <td>139</td>\n",
       "      <td>2019-02-01 00:05:34.3600</td>\n",
       "      <td>2019-02-01 00:07:54.2870</td>\n",
       "      <td>220.0</td>\n",
       "      <td>San Pablo Ave at MLK Jr Way</td>\n",
       "      <td>37.811351</td>\n",
       "      <td>-122.273422</td>\n",
       "      <td>216.0</td>\n",
       "      <td>San Pablo Ave at 27th St</td>\n",
       "      <td>37.817827</td>\n",
       "      <td>-122.275698</td>\n",
       "      <td>5095</td>\n",
       "      <td>Subscriber</td>\n",
       "      <td>1988.0</td>\n",
       "      <td>Male</td>\n",
       "      <td>No</td>\n",
       "    </tr>\n",
       "    <tr>\n",
       "      <th>183411</th>\n",
       "      <td>271</td>\n",
       "      <td>2019-02-01 00:00:20.6360</td>\n",
       "      <td>2019-02-01 00:04:52.0580</td>\n",
       "      <td>24.0</td>\n",
       "      <td>Spear St at Folsom St</td>\n",
       "      <td>37.789677</td>\n",
       "      <td>-122.390428</td>\n",
       "      <td>37.0</td>\n",
       "      <td>2nd St at Folsom St</td>\n",
       "      <td>37.785000</td>\n",
       "      <td>-122.395936</td>\n",
       "      <td>1057</td>\n",
       "      <td>Subscriber</td>\n",
       "      <td>1989.0</td>\n",
       "      <td>Male</td>\n",
       "      <td>No</td>\n",
       "    </tr>\n",
       "  </tbody>\n",
       "</table>\n",
       "</div>"
      ],
      "text/plain": [
       "        duration_sec                start_time                  end_time  \\\n",
       "183407           480  2019-02-01 00:04:49.7240  2019-02-01 00:12:50.0340   \n",
       "183408           313  2019-02-01 00:05:34.7440  2019-02-01 00:10:48.5020   \n",
       "183409           141  2019-02-01 00:06:05.5490  2019-02-01 00:08:27.2200   \n",
       "183410           139  2019-02-01 00:05:34.3600  2019-02-01 00:07:54.2870   \n",
       "183411           271  2019-02-01 00:00:20.6360  2019-02-01 00:04:52.0580   \n",
       "\n",
       "        start_station_id                                start_station_name  \\\n",
       "183407              27.0                           Beale St at Harrison St   \n",
       "183408              21.0  Montgomery St BART Station (Market St at 2nd St)   \n",
       "183409             278.0                            The Alameda at Bush St   \n",
       "183410             220.0                       San Pablo Ave at MLK Jr Way   \n",
       "183411              24.0                             Spear St at Folsom St   \n",
       "\n",
       "        start_station_latitude  start_station_longitude  end_station_id  \\\n",
       "183407               37.788059              -122.391865           324.0   \n",
       "183408               37.789625              -122.400811            66.0   \n",
       "183409               37.331932              -121.904888           277.0   \n",
       "183410               37.811351              -122.273422           216.0   \n",
       "183411               37.789677              -122.390428            37.0   \n",
       "\n",
       "                           end_station_name  end_station_latitude  \\\n",
       "183407  Union Square (Powell St at Post St)             37.788300   \n",
       "183408                3rd St at Townsend St             37.778742   \n",
       "183409            Morrison Ave at Julian St             37.333658   \n",
       "183410             San Pablo Ave at 27th St             37.817827   \n",
       "183411                  2nd St at Folsom St             37.785000   \n",
       "\n",
       "        end_station_longitude  bike_id   user_type  member_birth_year  \\\n",
       "183407            -122.408531     4832  Subscriber             1996.0   \n",
       "183408            -122.392741     4960  Subscriber             1984.0   \n",
       "183409            -121.908586     3824  Subscriber             1990.0   \n",
       "183410            -122.275698     5095  Subscriber             1988.0   \n",
       "183411            -122.395936     1057  Subscriber             1989.0   \n",
       "\n",
       "       member_gender bike_share_for_all_trip  \n",
       "183407          Male                      No  \n",
       "183408          Male                      No  \n",
       "183409          Male                     Yes  \n",
       "183410          Male                      No  \n",
       "183411          Male                      No  "
      ]
     },
     "execution_count": 244,
     "metadata": {},
     "output_type": "execute_result"
    }
   ],
   "source": [
    "gobike.tail()"
   ]
  },
  {
   "cell_type": "code",
   "execution_count": 245,
   "id": "3b189218",
   "metadata": {},
   "outputs": [
    {
     "name": "stdout",
     "output_type": "stream",
     "text": [
      "<class 'pandas.core.frame.DataFrame'>\n",
      "RangeIndex: 183412 entries, 0 to 183411\n",
      "Data columns (total 16 columns):\n",
      " #   Column                   Non-Null Count   Dtype  \n",
      "---  ------                   --------------   -----  \n",
      " 0   duration_sec             183412 non-null  int64  \n",
      " 1   start_time               183412 non-null  object \n",
      " 2   end_time                 183412 non-null  object \n",
      " 3   start_station_id         183215 non-null  float64\n",
      " 4   start_station_name       183215 non-null  object \n",
      " 5   start_station_latitude   183412 non-null  float64\n",
      " 6   start_station_longitude  183412 non-null  float64\n",
      " 7   end_station_id           183215 non-null  float64\n",
      " 8   end_station_name         183215 non-null  object \n",
      " 9   end_station_latitude     183412 non-null  float64\n",
      " 10  end_station_longitude    183412 non-null  float64\n",
      " 11  bike_id                  183412 non-null  int64  \n",
      " 12  user_type                183412 non-null  object \n",
      " 13  member_birth_year        175147 non-null  float64\n",
      " 14  member_gender            175147 non-null  object \n",
      " 15  bike_share_for_all_trip  183412 non-null  object \n",
      "dtypes: float64(7), int64(2), object(7)\n",
      "memory usage: 22.4+ MB\n"
     ]
    }
   ],
   "source": [
    "# high-level overview of data shape and composition\n",
    "gobike.info()"
   ]
  },
  {
   "cell_type": "code",
   "execution_count": 246,
   "id": "627bd51e",
   "metadata": {},
   "outputs": [
    {
     "data": {
      "text/plain": [
       "(183412, 16)"
      ]
     },
     "execution_count": 246,
     "metadata": {},
     "output_type": "execute_result"
    }
   ],
   "source": [
    "# checking the shape of dataframe\n",
    "gobike.shape"
   ]
  },
  {
   "cell_type": "code",
   "execution_count": 247,
   "id": "3f1992a9",
   "metadata": {},
   "outputs": [
    {
     "data": {
      "text/html": [
       "<div>\n",
       "<style scoped>\n",
       "    .dataframe tbody tr th:only-of-type {\n",
       "        vertical-align: middle;\n",
       "    }\n",
       "\n",
       "    .dataframe tbody tr th {\n",
       "        vertical-align: top;\n",
       "    }\n",
       "\n",
       "    .dataframe thead th {\n",
       "        text-align: right;\n",
       "    }\n",
       "</style>\n",
       "<table border=\"1\" class=\"dataframe\">\n",
       "  <thead>\n",
       "    <tr style=\"text-align: right;\">\n",
       "      <th></th>\n",
       "      <th>duration_sec</th>\n",
       "      <th>start_station_id</th>\n",
       "      <th>start_station_latitude</th>\n",
       "      <th>start_station_longitude</th>\n",
       "      <th>end_station_id</th>\n",
       "      <th>end_station_latitude</th>\n",
       "      <th>end_station_longitude</th>\n",
       "      <th>bike_id</th>\n",
       "      <th>member_birth_year</th>\n",
       "    </tr>\n",
       "  </thead>\n",
       "  <tbody>\n",
       "    <tr>\n",
       "      <th>count</th>\n",
       "      <td>183412.000000</td>\n",
       "      <td>183215.000000</td>\n",
       "      <td>183412.000000</td>\n",
       "      <td>183412.000000</td>\n",
       "      <td>183215.000000</td>\n",
       "      <td>183412.000000</td>\n",
       "      <td>183412.000000</td>\n",
       "      <td>183412.000000</td>\n",
       "      <td>175147.000000</td>\n",
       "    </tr>\n",
       "    <tr>\n",
       "      <th>mean</th>\n",
       "      <td>726.078435</td>\n",
       "      <td>138.590427</td>\n",
       "      <td>37.771223</td>\n",
       "      <td>-122.352664</td>\n",
       "      <td>136.249123</td>\n",
       "      <td>37.771427</td>\n",
       "      <td>-122.352250</td>\n",
       "      <td>4472.906375</td>\n",
       "      <td>1984.806437</td>\n",
       "    </tr>\n",
       "    <tr>\n",
       "      <th>std</th>\n",
       "      <td>1794.389780</td>\n",
       "      <td>111.778864</td>\n",
       "      <td>0.099581</td>\n",
       "      <td>0.117097</td>\n",
       "      <td>111.515131</td>\n",
       "      <td>0.099490</td>\n",
       "      <td>0.116673</td>\n",
       "      <td>1664.383394</td>\n",
       "      <td>10.116689</td>\n",
       "    </tr>\n",
       "    <tr>\n",
       "      <th>min</th>\n",
       "      <td>61.000000</td>\n",
       "      <td>3.000000</td>\n",
       "      <td>37.317298</td>\n",
       "      <td>-122.453704</td>\n",
       "      <td>3.000000</td>\n",
       "      <td>37.317298</td>\n",
       "      <td>-122.453704</td>\n",
       "      <td>11.000000</td>\n",
       "      <td>1878.000000</td>\n",
       "    </tr>\n",
       "    <tr>\n",
       "      <th>25%</th>\n",
       "      <td>325.000000</td>\n",
       "      <td>47.000000</td>\n",
       "      <td>37.770083</td>\n",
       "      <td>-122.412408</td>\n",
       "      <td>44.000000</td>\n",
       "      <td>37.770407</td>\n",
       "      <td>-122.411726</td>\n",
       "      <td>3777.000000</td>\n",
       "      <td>1980.000000</td>\n",
       "    </tr>\n",
       "    <tr>\n",
       "      <th>50%</th>\n",
       "      <td>514.000000</td>\n",
       "      <td>104.000000</td>\n",
       "      <td>37.780760</td>\n",
       "      <td>-122.398285</td>\n",
       "      <td>100.000000</td>\n",
       "      <td>37.781010</td>\n",
       "      <td>-122.398279</td>\n",
       "      <td>4958.000000</td>\n",
       "      <td>1987.000000</td>\n",
       "    </tr>\n",
       "    <tr>\n",
       "      <th>75%</th>\n",
       "      <td>796.000000</td>\n",
       "      <td>239.000000</td>\n",
       "      <td>37.797280</td>\n",
       "      <td>-122.286533</td>\n",
       "      <td>235.000000</td>\n",
       "      <td>37.797320</td>\n",
       "      <td>-122.288045</td>\n",
       "      <td>5502.000000</td>\n",
       "      <td>1992.000000</td>\n",
       "    </tr>\n",
       "    <tr>\n",
       "      <th>max</th>\n",
       "      <td>85444.000000</td>\n",
       "      <td>398.000000</td>\n",
       "      <td>37.880222</td>\n",
       "      <td>-121.874119</td>\n",
       "      <td>398.000000</td>\n",
       "      <td>37.880222</td>\n",
       "      <td>-121.874119</td>\n",
       "      <td>6645.000000</td>\n",
       "      <td>2001.000000</td>\n",
       "    </tr>\n",
       "  </tbody>\n",
       "</table>\n",
       "</div>"
      ],
      "text/plain": [
       "        duration_sec  start_station_id  start_station_latitude  \\\n",
       "count  183412.000000     183215.000000           183412.000000   \n",
       "mean      726.078435        138.590427               37.771223   \n",
       "std      1794.389780        111.778864                0.099581   \n",
       "min        61.000000          3.000000               37.317298   \n",
       "25%       325.000000         47.000000               37.770083   \n",
       "50%       514.000000        104.000000               37.780760   \n",
       "75%       796.000000        239.000000               37.797280   \n",
       "max     85444.000000        398.000000               37.880222   \n",
       "\n",
       "       start_station_longitude  end_station_id  end_station_latitude  \\\n",
       "count            183412.000000   183215.000000         183412.000000   \n",
       "mean               -122.352664      136.249123             37.771427   \n",
       "std                   0.117097      111.515131              0.099490   \n",
       "min                -122.453704        3.000000             37.317298   \n",
       "25%                -122.412408       44.000000             37.770407   \n",
       "50%                -122.398285      100.000000             37.781010   \n",
       "75%                -122.286533      235.000000             37.797320   \n",
       "max                -121.874119      398.000000             37.880222   \n",
       "\n",
       "       end_station_longitude        bike_id  member_birth_year  \n",
       "count          183412.000000  183412.000000      175147.000000  \n",
       "mean             -122.352250    4472.906375        1984.806437  \n",
       "std                 0.116673    1664.383394          10.116689  \n",
       "min              -122.453704      11.000000        1878.000000  \n",
       "25%              -122.411726    3777.000000        1980.000000  \n",
       "50%              -122.398279    4958.000000        1987.000000  \n",
       "75%              -122.288045    5502.000000        1992.000000  \n",
       "max              -121.874119    6645.000000        2001.000000  "
      ]
     },
     "execution_count": 247,
     "metadata": {},
     "output_type": "execute_result"
    }
   ],
   "source": [
    "gobike.describe()"
   ]
  },
  {
   "cell_type": "markdown",
   "id": "3d3a8313",
   "metadata": {},
   "source": [
    "\n",
    "# cleaning the following things\n",
    "* data type adjustments - start and end time from object to datetime, station id and birth year from float to int.\n",
    "* null values in all stations columns, in birth_year and gender \n",
    "* I will add a column of user age and duration time in minutes \n"
   ]
  },
  {
   "cell_type": "code",
   "execution_count": 248,
   "id": "64fdea0f",
   "metadata": {},
   "outputs": [
    {
     "data": {
      "text/html": [
       "<div>\n",
       "<style scoped>\n",
       "    .dataframe tbody tr th:only-of-type {\n",
       "        vertical-align: middle;\n",
       "    }\n",
       "\n",
       "    .dataframe tbody tr th {\n",
       "        vertical-align: top;\n",
       "    }\n",
       "\n",
       "    .dataframe thead th {\n",
       "        text-align: right;\n",
       "    }\n",
       "</style>\n",
       "<table border=\"1\" class=\"dataframe\">\n",
       "  <thead>\n",
       "    <tr style=\"text-align: right;\">\n",
       "      <th></th>\n",
       "      <th>duration_sec</th>\n",
       "      <th>start_time</th>\n",
       "      <th>end_time</th>\n",
       "      <th>start_station_id</th>\n",
       "      <th>start_station_name</th>\n",
       "      <th>start_station_latitude</th>\n",
       "      <th>start_station_longitude</th>\n",
       "      <th>end_station_id</th>\n",
       "      <th>end_station_name</th>\n",
       "      <th>end_station_latitude</th>\n",
       "      <th>end_station_longitude</th>\n",
       "      <th>bike_id</th>\n",
       "      <th>user_type</th>\n",
       "      <th>member_birth_year</th>\n",
       "      <th>member_gender</th>\n",
       "      <th>bike_share_for_all_trip</th>\n",
       "    </tr>\n",
       "  </thead>\n",
       "  <tbody>\n",
       "    <tr>\n",
       "      <th>0</th>\n",
       "      <td>52185</td>\n",
       "      <td>2019-02-28 17:32:10.1450</td>\n",
       "      <td>2019-03-01 08:01:55.9750</td>\n",
       "      <td>21.0</td>\n",
       "      <td>Montgomery St BART Station (Market St at 2nd St)</td>\n",
       "      <td>37.789625</td>\n",
       "      <td>-122.400811</td>\n",
       "      <td>13.0</td>\n",
       "      <td>Commercial St at Montgomery St</td>\n",
       "      <td>37.794231</td>\n",
       "      <td>-122.402923</td>\n",
       "      <td>4902</td>\n",
       "      <td>Customer</td>\n",
       "      <td>1984.0</td>\n",
       "      <td>Male</td>\n",
       "      <td>No</td>\n",
       "    </tr>\n",
       "    <tr>\n",
       "      <th>1</th>\n",
       "      <td>42521</td>\n",
       "      <td>2019-02-28 18:53:21.7890</td>\n",
       "      <td>2019-03-01 06:42:03.0560</td>\n",
       "      <td>23.0</td>\n",
       "      <td>The Embarcadero at Steuart St</td>\n",
       "      <td>37.791464</td>\n",
       "      <td>-122.391034</td>\n",
       "      <td>81.0</td>\n",
       "      <td>Berry St at 4th St</td>\n",
       "      <td>37.775880</td>\n",
       "      <td>-122.393170</td>\n",
       "      <td>2535</td>\n",
       "      <td>Customer</td>\n",
       "      <td>NaN</td>\n",
       "      <td>NaN</td>\n",
       "      <td>No</td>\n",
       "    </tr>\n",
       "    <tr>\n",
       "      <th>2</th>\n",
       "      <td>61854</td>\n",
       "      <td>2019-02-28 12:13:13.2180</td>\n",
       "      <td>2019-03-01 05:24:08.1460</td>\n",
       "      <td>86.0</td>\n",
       "      <td>Market St at Dolores St</td>\n",
       "      <td>37.769305</td>\n",
       "      <td>-122.426826</td>\n",
       "      <td>3.0</td>\n",
       "      <td>Powell St BART Station (Market St at 4th St)</td>\n",
       "      <td>37.786375</td>\n",
       "      <td>-122.404904</td>\n",
       "      <td>5905</td>\n",
       "      <td>Customer</td>\n",
       "      <td>1972.0</td>\n",
       "      <td>Male</td>\n",
       "      <td>No</td>\n",
       "    </tr>\n",
       "    <tr>\n",
       "      <th>3</th>\n",
       "      <td>36490</td>\n",
       "      <td>2019-02-28 17:54:26.0100</td>\n",
       "      <td>2019-03-01 04:02:36.8420</td>\n",
       "      <td>375.0</td>\n",
       "      <td>Grove St at Masonic Ave</td>\n",
       "      <td>37.774836</td>\n",
       "      <td>-122.446546</td>\n",
       "      <td>70.0</td>\n",
       "      <td>Central Ave at Fell St</td>\n",
       "      <td>37.773311</td>\n",
       "      <td>-122.444293</td>\n",
       "      <td>6638</td>\n",
       "      <td>Subscriber</td>\n",
       "      <td>1989.0</td>\n",
       "      <td>Other</td>\n",
       "      <td>No</td>\n",
       "    </tr>\n",
       "    <tr>\n",
       "      <th>4</th>\n",
       "      <td>1585</td>\n",
       "      <td>2019-02-28 23:54:18.5490</td>\n",
       "      <td>2019-03-01 00:20:44.0740</td>\n",
       "      <td>7.0</td>\n",
       "      <td>Frank H Ogawa Plaza</td>\n",
       "      <td>37.804562</td>\n",
       "      <td>-122.271738</td>\n",
       "      <td>222.0</td>\n",
       "      <td>10th Ave at E 15th St</td>\n",
       "      <td>37.792714</td>\n",
       "      <td>-122.248780</td>\n",
       "      <td>4898</td>\n",
       "      <td>Subscriber</td>\n",
       "      <td>1974.0</td>\n",
       "      <td>Male</td>\n",
       "      <td>Yes</td>\n",
       "    </tr>\n",
       "  </tbody>\n",
       "</table>\n",
       "</div>"
      ],
      "text/plain": [
       "   duration_sec                start_time                  end_time  \\\n",
       "0         52185  2019-02-28 17:32:10.1450  2019-03-01 08:01:55.9750   \n",
       "1         42521  2019-02-28 18:53:21.7890  2019-03-01 06:42:03.0560   \n",
       "2         61854  2019-02-28 12:13:13.2180  2019-03-01 05:24:08.1460   \n",
       "3         36490  2019-02-28 17:54:26.0100  2019-03-01 04:02:36.8420   \n",
       "4          1585  2019-02-28 23:54:18.5490  2019-03-01 00:20:44.0740   \n",
       "\n",
       "   start_station_id                                start_station_name  \\\n",
       "0              21.0  Montgomery St BART Station (Market St at 2nd St)   \n",
       "1              23.0                     The Embarcadero at Steuart St   \n",
       "2              86.0                           Market St at Dolores St   \n",
       "3             375.0                           Grove St at Masonic Ave   \n",
       "4               7.0                               Frank H Ogawa Plaza   \n",
       "\n",
       "   start_station_latitude  start_station_longitude  end_station_id  \\\n",
       "0               37.789625              -122.400811            13.0   \n",
       "1               37.791464              -122.391034            81.0   \n",
       "2               37.769305              -122.426826             3.0   \n",
       "3               37.774836              -122.446546            70.0   \n",
       "4               37.804562              -122.271738           222.0   \n",
       "\n",
       "                               end_station_name  end_station_latitude  \\\n",
       "0                Commercial St at Montgomery St             37.794231   \n",
       "1                            Berry St at 4th St             37.775880   \n",
       "2  Powell St BART Station (Market St at 4th St)             37.786375   \n",
       "3                        Central Ave at Fell St             37.773311   \n",
       "4                         10th Ave at E 15th St             37.792714   \n",
       "\n",
       "   end_station_longitude  bike_id   user_type  member_birth_year  \\\n",
       "0            -122.402923     4902    Customer             1984.0   \n",
       "1            -122.393170     2535    Customer                NaN   \n",
       "2            -122.404904     5905    Customer             1972.0   \n",
       "3            -122.444293     6638  Subscriber             1989.0   \n",
       "4            -122.248780     4898  Subscriber             1974.0   \n",
       "\n",
       "  member_gender bike_share_for_all_trip  \n",
       "0          Male                      No  \n",
       "1           NaN                      No  \n",
       "2          Male                      No  \n",
       "3         Other                      No  \n",
       "4          Male                     Yes  "
      ]
     },
     "execution_count": 248,
     "metadata": {},
     "output_type": "execute_result"
    }
   ],
   "source": [
    "# making a copy of the dataset before wrangeling\n",
    "df = gobike.copy()\n",
    "df.head()"
   ]
  },
  {
   "cell_type": "markdown",
   "id": "1587d41f",
   "metadata": {},
   "source": [
    "# define\n",
    "will drop all the rows with null values for better analysis and visualizasions processes using dropna() function"
   ]
  },
  {
   "cell_type": "code",
   "execution_count": 249,
   "id": "1b425658",
   "metadata": {},
   "outputs": [
    {
     "data": {
      "text/plain": [
       "duration_sec                  0\n",
       "start_time                    0\n",
       "end_time                      0\n",
       "start_station_id            197\n",
       "start_station_name          197\n",
       "start_station_latitude        0\n",
       "start_station_longitude       0\n",
       "end_station_id              197\n",
       "end_station_name            197\n",
       "end_station_latitude          0\n",
       "end_station_longitude         0\n",
       "bike_id                       0\n",
       "user_type                     0\n",
       "member_birth_year          8265\n",
       "member_gender              8265\n",
       "bike_share_for_all_trip       0\n",
       "dtype: int64"
      ]
     },
     "execution_count": 249,
     "metadata": {},
     "output_type": "execute_result"
    }
   ],
   "source": [
    "# checking the null values\n",
    "df.isnull().sum()\n"
   ]
  },
  {
   "cell_type": "code",
   "execution_count": 250,
   "id": "c201bb94",
   "metadata": {},
   "outputs": [],
   "source": [
    "#droping all those null values\n",
    "df.dropna(axis=0,inplace=True)\n"
   ]
  },
  {
   "cell_type": "markdown",
   "id": "9c80556f",
   "metadata": {},
   "source": [
    "# test"
   ]
  },
  {
   "cell_type": "code",
   "execution_count": 251,
   "id": "66407fad",
   "metadata": {},
   "outputs": [
    {
     "data": {
      "text/plain": [
       "duration_sec               0\n",
       "start_time                 0\n",
       "end_time                   0\n",
       "start_station_id           0\n",
       "start_station_name         0\n",
       "start_station_latitude     0\n",
       "start_station_longitude    0\n",
       "end_station_id             0\n",
       "end_station_name           0\n",
       "end_station_latitude       0\n",
       "end_station_longitude      0\n",
       "bike_id                    0\n",
       "user_type                  0\n",
       "member_birth_year          0\n",
       "member_gender              0\n",
       "bike_share_for_all_trip    0\n",
       "dtype: int64"
      ]
     },
     "execution_count": 251,
     "metadata": {},
     "output_type": "execute_result"
    }
   ],
   "source": [
    "df.isnull().sum()"
   ]
  },
  {
   "cell_type": "markdown",
   "id": "9ffe8cef",
   "metadata": {},
   "source": [
    "# define\n",
    "I will convert the start time and end time to a datetime using to_datetime() function.\n",
    "I will convert the station id and birth year from float to int using astype()"
   ]
  },
  {
   "cell_type": "code",
   "execution_count": 252,
   "id": "e91dc014",
   "metadata": {},
   "outputs": [],
   "source": [
    "#  converting the start time and end time to datetime\n",
    "\n",
    "df[['start_time', 'end_time']] = df[['start_time', 'end_time']].apply(pd.to_datetime, errors='coerce')\n",
    "\n",
    "# converting the station_id and birth_year to int\n",
    "\n",
    "df[['start_station_id', 'end_station_id', 'member_birth_year']] = df[['start_station_id', 'end_station_id', 'member_birth_year']].astype('int64')\n"
   ]
  },
  {
   "cell_type": "code",
   "execution_count": 253,
   "id": "4b122188",
   "metadata": {},
   "outputs": [
    {
     "name": "stdout",
     "output_type": "stream",
     "text": [
      "<class 'pandas.core.frame.DataFrame'>\n",
      "Int64Index: 174952 entries, 0 to 183411\n",
      "Data columns (total 16 columns):\n",
      " #   Column                   Non-Null Count   Dtype         \n",
      "---  ------                   --------------   -----         \n",
      " 0   duration_sec             174952 non-null  int64         \n",
      " 1   start_time               174952 non-null  datetime64[ns]\n",
      " 2   end_time                 174952 non-null  datetime64[ns]\n",
      " 3   start_station_id         174952 non-null  int64         \n",
      " 4   start_station_name       174952 non-null  object        \n",
      " 5   start_station_latitude   174952 non-null  float64       \n",
      " 6   start_station_longitude  174952 non-null  float64       \n",
      " 7   end_station_id           174952 non-null  int64         \n",
      " 8   end_station_name         174952 non-null  object        \n",
      " 9   end_station_latitude     174952 non-null  float64       \n",
      " 10  end_station_longitude    174952 non-null  float64       \n",
      " 11  bike_id                  174952 non-null  int64         \n",
      " 12  user_type                174952 non-null  object        \n",
      " 13  member_birth_year        174952 non-null  int64         \n",
      " 14  member_gender            174952 non-null  object        \n",
      " 15  bike_share_for_all_trip  174952 non-null  object        \n",
      "dtypes: datetime64[ns](2), float64(4), int64(5), object(5)\n",
      "memory usage: 22.7+ MB\n"
     ]
    }
   ],
   "source": [
    "df.info()"
   ]
  },
  {
   "cell_type": "markdown",
   "id": "72b6b671",
   "metadata": {},
   "source": [
    "# test"
   ]
  },
  {
   "cell_type": "code",
   "execution_count": 254,
   "id": "0aa375f5",
   "metadata": {},
   "outputs": [
    {
     "name": "stdout",
     "output_type": "stream",
     "text": [
      "<class 'pandas.core.frame.DataFrame'>\n",
      "Int64Index: 174952 entries, 0 to 183411\n",
      "Data columns (total 16 columns):\n",
      " #   Column                   Non-Null Count   Dtype         \n",
      "---  ------                   --------------   -----         \n",
      " 0   duration_sec             174952 non-null  int64         \n",
      " 1   start_time               174952 non-null  datetime64[ns]\n",
      " 2   end_time                 174952 non-null  datetime64[ns]\n",
      " 3   start_station_id         174952 non-null  int64         \n",
      " 4   start_station_name       174952 non-null  object        \n",
      " 5   start_station_latitude   174952 non-null  float64       \n",
      " 6   start_station_longitude  174952 non-null  float64       \n",
      " 7   end_station_id           174952 non-null  int64         \n",
      " 8   end_station_name         174952 non-null  object        \n",
      " 9   end_station_latitude     174952 non-null  float64       \n",
      " 10  end_station_longitude    174952 non-null  float64       \n",
      " 11  bike_id                  174952 non-null  int64         \n",
      " 12  user_type                174952 non-null  object        \n",
      " 13  member_birth_year        174952 non-null  int64         \n",
      " 14  member_gender            174952 non-null  object        \n",
      " 15  bike_share_for_all_trip  174952 non-null  object        \n",
      "dtypes: datetime64[ns](2), float64(4), int64(5), object(5)\n",
      "memory usage: 22.7+ MB\n"
     ]
    }
   ],
   "source": [
    "df.info()"
   ]
  },
  {
   "cell_type": "code",
   "execution_count": 255,
   "id": "c66e2161",
   "metadata": {},
   "outputs": [
    {
     "data": {
      "text/html": [
       "<div>\n",
       "<style scoped>\n",
       "    .dataframe tbody tr th:only-of-type {\n",
       "        vertical-align: middle;\n",
       "    }\n",
       "\n",
       "    .dataframe tbody tr th {\n",
       "        vertical-align: top;\n",
       "    }\n",
       "\n",
       "    .dataframe thead th {\n",
       "        text-align: right;\n",
       "    }\n",
       "</style>\n",
       "<table border=\"1\" class=\"dataframe\">\n",
       "  <thead>\n",
       "    <tr style=\"text-align: right;\">\n",
       "      <th></th>\n",
       "      <th>duration_sec</th>\n",
       "      <th>start_time</th>\n",
       "      <th>end_time</th>\n",
       "      <th>start_station_id</th>\n",
       "      <th>start_station_name</th>\n",
       "      <th>start_station_latitude</th>\n",
       "      <th>start_station_longitude</th>\n",
       "      <th>end_station_id</th>\n",
       "      <th>end_station_name</th>\n",
       "      <th>end_station_latitude</th>\n",
       "      <th>end_station_longitude</th>\n",
       "      <th>bike_id</th>\n",
       "      <th>user_type</th>\n",
       "      <th>member_birth_year</th>\n",
       "      <th>member_gender</th>\n",
       "      <th>bike_share_for_all_trip</th>\n",
       "    </tr>\n",
       "  </thead>\n",
       "  <tbody>\n",
       "    <tr>\n",
       "      <th>0</th>\n",
       "      <td>52185</td>\n",
       "      <td>2019-02-28 17:32:10.145</td>\n",
       "      <td>2019-03-01 08:01:55.975</td>\n",
       "      <td>21</td>\n",
       "      <td>Montgomery St BART Station (Market St at 2nd St)</td>\n",
       "      <td>37.789625</td>\n",
       "      <td>-122.400811</td>\n",
       "      <td>13</td>\n",
       "      <td>Commercial St at Montgomery St</td>\n",
       "      <td>37.794231</td>\n",
       "      <td>-122.402923</td>\n",
       "      <td>4902</td>\n",
       "      <td>Customer</td>\n",
       "      <td>1984</td>\n",
       "      <td>Male</td>\n",
       "      <td>No</td>\n",
       "    </tr>\n",
       "    <tr>\n",
       "      <th>2</th>\n",
       "      <td>61854</td>\n",
       "      <td>2019-02-28 12:13:13.218</td>\n",
       "      <td>2019-03-01 05:24:08.146</td>\n",
       "      <td>86</td>\n",
       "      <td>Market St at Dolores St</td>\n",
       "      <td>37.769305</td>\n",
       "      <td>-122.426826</td>\n",
       "      <td>3</td>\n",
       "      <td>Powell St BART Station (Market St at 4th St)</td>\n",
       "      <td>37.786375</td>\n",
       "      <td>-122.404904</td>\n",
       "      <td>5905</td>\n",
       "      <td>Customer</td>\n",
       "      <td>1972</td>\n",
       "      <td>Male</td>\n",
       "      <td>No</td>\n",
       "    </tr>\n",
       "    <tr>\n",
       "      <th>3</th>\n",
       "      <td>36490</td>\n",
       "      <td>2019-02-28 17:54:26.010</td>\n",
       "      <td>2019-03-01 04:02:36.842</td>\n",
       "      <td>375</td>\n",
       "      <td>Grove St at Masonic Ave</td>\n",
       "      <td>37.774836</td>\n",
       "      <td>-122.446546</td>\n",
       "      <td>70</td>\n",
       "      <td>Central Ave at Fell St</td>\n",
       "      <td>37.773311</td>\n",
       "      <td>-122.444293</td>\n",
       "      <td>6638</td>\n",
       "      <td>Subscriber</td>\n",
       "      <td>1989</td>\n",
       "      <td>Other</td>\n",
       "      <td>No</td>\n",
       "    </tr>\n",
       "    <tr>\n",
       "      <th>4</th>\n",
       "      <td>1585</td>\n",
       "      <td>2019-02-28 23:54:18.549</td>\n",
       "      <td>2019-03-01 00:20:44.074</td>\n",
       "      <td>7</td>\n",
       "      <td>Frank H Ogawa Plaza</td>\n",
       "      <td>37.804562</td>\n",
       "      <td>-122.271738</td>\n",
       "      <td>222</td>\n",
       "      <td>10th Ave at E 15th St</td>\n",
       "      <td>37.792714</td>\n",
       "      <td>-122.248780</td>\n",
       "      <td>4898</td>\n",
       "      <td>Subscriber</td>\n",
       "      <td>1974</td>\n",
       "      <td>Male</td>\n",
       "      <td>Yes</td>\n",
       "    </tr>\n",
       "    <tr>\n",
       "      <th>5</th>\n",
       "      <td>1793</td>\n",
       "      <td>2019-02-28 23:49:58.632</td>\n",
       "      <td>2019-03-01 00:19:51.760</td>\n",
       "      <td>93</td>\n",
       "      <td>4th St at Mission Bay Blvd S</td>\n",
       "      <td>37.770407</td>\n",
       "      <td>-122.391198</td>\n",
       "      <td>323</td>\n",
       "      <td>Broadway at Kearny</td>\n",
       "      <td>37.798014</td>\n",
       "      <td>-122.405950</td>\n",
       "      <td>5200</td>\n",
       "      <td>Subscriber</td>\n",
       "      <td>1959</td>\n",
       "      <td>Male</td>\n",
       "      <td>No</td>\n",
       "    </tr>\n",
       "  </tbody>\n",
       "</table>\n",
       "</div>"
      ],
      "text/plain": [
       "   duration_sec              start_time                end_time  \\\n",
       "0         52185 2019-02-28 17:32:10.145 2019-03-01 08:01:55.975   \n",
       "2         61854 2019-02-28 12:13:13.218 2019-03-01 05:24:08.146   \n",
       "3         36490 2019-02-28 17:54:26.010 2019-03-01 04:02:36.842   \n",
       "4          1585 2019-02-28 23:54:18.549 2019-03-01 00:20:44.074   \n",
       "5          1793 2019-02-28 23:49:58.632 2019-03-01 00:19:51.760   \n",
       "\n",
       "   start_station_id                                start_station_name  \\\n",
       "0                21  Montgomery St BART Station (Market St at 2nd St)   \n",
       "2                86                           Market St at Dolores St   \n",
       "3               375                           Grove St at Masonic Ave   \n",
       "4                 7                               Frank H Ogawa Plaza   \n",
       "5                93                      4th St at Mission Bay Blvd S   \n",
       "\n",
       "   start_station_latitude  start_station_longitude  end_station_id  \\\n",
       "0               37.789625              -122.400811              13   \n",
       "2               37.769305              -122.426826               3   \n",
       "3               37.774836              -122.446546              70   \n",
       "4               37.804562              -122.271738             222   \n",
       "5               37.770407              -122.391198             323   \n",
       "\n",
       "                               end_station_name  end_station_latitude  \\\n",
       "0                Commercial St at Montgomery St             37.794231   \n",
       "2  Powell St BART Station (Market St at 4th St)             37.786375   \n",
       "3                        Central Ave at Fell St             37.773311   \n",
       "4                         10th Ave at E 15th St             37.792714   \n",
       "5                            Broadway at Kearny             37.798014   \n",
       "\n",
       "   end_station_longitude  bike_id   user_type  member_birth_year  \\\n",
       "0            -122.402923     4902    Customer               1984   \n",
       "2            -122.404904     5905    Customer               1972   \n",
       "3            -122.444293     6638  Subscriber               1989   \n",
       "4            -122.248780     4898  Subscriber               1974   \n",
       "5            -122.405950     5200  Subscriber               1959   \n",
       "\n",
       "  member_gender bike_share_for_all_trip  \n",
       "0          Male                      No  \n",
       "2          Male                      No  \n",
       "3         Other                      No  \n",
       "4          Male                     Yes  \n",
       "5          Male                      No  "
      ]
     },
     "execution_count": 255,
     "metadata": {},
     "output_type": "execute_result"
    }
   ],
   "source": [
    "df.head()"
   ]
  },
  {
   "cell_type": "markdown",
   "id": "70c53ca7",
   "metadata": {},
   "source": [
    "# define \n",
    "I will add 4 new columns: \n",
    "* \"age\" by substracting the data current year from member_birth_year and will limit the age to 80 years old.\n",
    "* \"start_hour\" and \"end_hour\" to be able to analyze the popular riding times usind dt.hour\n",
    "* duration time in minutes to have a better grasp of the duration time by dividing duration seconds by 60\n"
   ]
  },
  {
   "cell_type": "code",
   "execution_count": 256,
   "id": "df2cbb66",
   "metadata": {},
   "outputs": [],
   "source": [
    "# creating the age coloumn\n",
    "df['age'] = 2019 - df['member_birth_year'] \n",
    "# limiting the age to 80 years old by dropping all the rows of age larger then 80\n",
    "df.drop(df[(df.age > 80 )].index, inplace = True)\n",
    "\n"
   ]
  },
  {
   "cell_type": "code",
   "execution_count": 257,
   "id": "39aed31c",
   "metadata": {},
   "outputs": [],
   "source": [
    "# adding start_hour coloumn\n",
    "df['start_hour'] = df['start_time'].dt.hour\n",
    "# adding end_hour coloumn\n",
    "df['end_hour'] = df['end_time'].dt.hour\n"
   ]
  },
  {
   "cell_type": "code",
   "execution_count": 258,
   "id": "5bb34946",
   "metadata": {},
   "outputs": [],
   "source": [
    "# adding duration_minutes coloumn\n",
    "df['duration_minutes'] = df['duration_sec'] / 60\n",
    "# adding duration_hour column\n",
    "df['duration_hour'] = df['duration_minutes'] / 60"
   ]
  },
  {
   "cell_type": "markdown",
   "id": "086fa415",
   "metadata": {},
   "source": [
    "# test"
   ]
  },
  {
   "cell_type": "code",
   "execution_count": 259,
   "id": "5e01ddfe",
   "metadata": {},
   "outputs": [
    {
     "data": {
      "text/html": [
       "<div>\n",
       "<style scoped>\n",
       "    .dataframe tbody tr th:only-of-type {\n",
       "        vertical-align: middle;\n",
       "    }\n",
       "\n",
       "    .dataframe tbody tr th {\n",
       "        vertical-align: top;\n",
       "    }\n",
       "\n",
       "    .dataframe thead th {\n",
       "        text-align: right;\n",
       "    }\n",
       "</style>\n",
       "<table border=\"1\" class=\"dataframe\">\n",
       "  <thead>\n",
       "    <tr style=\"text-align: right;\">\n",
       "      <th></th>\n",
       "      <th>duration_sec</th>\n",
       "      <th>start_station_id</th>\n",
       "      <th>start_station_latitude</th>\n",
       "      <th>start_station_longitude</th>\n",
       "      <th>end_station_id</th>\n",
       "      <th>end_station_latitude</th>\n",
       "      <th>end_station_longitude</th>\n",
       "      <th>bike_id</th>\n",
       "      <th>member_birth_year</th>\n",
       "      <th>age</th>\n",
       "      <th>start_hour</th>\n",
       "      <th>end_hour</th>\n",
       "      <th>duration_minutes</th>\n",
       "      <th>duration_hour</th>\n",
       "    </tr>\n",
       "  </thead>\n",
       "  <tbody>\n",
       "    <tr>\n",
       "      <th>count</th>\n",
       "      <td>174760.000000</td>\n",
       "      <td>174760.000000</td>\n",
       "      <td>174760.000000</td>\n",
       "      <td>174760.000000</td>\n",
       "      <td>174760.000000</td>\n",
       "      <td>174760.000000</td>\n",
       "      <td>174760.000000</td>\n",
       "      <td>174760.000000</td>\n",
       "      <td>174760.000000</td>\n",
       "      <td>174760.000000</td>\n",
       "      <td>174760.000000</td>\n",
       "      <td>174760.000000</td>\n",
       "      <td>174760.000000</td>\n",
       "      <td>174760.000000</td>\n",
       "    </tr>\n",
       "    <tr>\n",
       "      <th>mean</th>\n",
       "      <td>704.309630</td>\n",
       "      <td>139.021172</td>\n",
       "      <td>37.771202</td>\n",
       "      <td>-122.351719</td>\n",
       "      <td>136.641217</td>\n",
       "      <td>37.771398</td>\n",
       "      <td>-122.351295</td>\n",
       "      <td>4482.333749</td>\n",
       "      <td>1984.874777</td>\n",
       "      <td>34.125223</td>\n",
       "      <td>13.456100</td>\n",
       "      <td>13.609527</td>\n",
       "      <td>11.738494</td>\n",
       "      <td>0.195642</td>\n",
       "    </tr>\n",
       "    <tr>\n",
       "      <th>std</th>\n",
       "      <td>1643.031657</td>\n",
       "      <td>111.649138</td>\n",
       "      <td>0.100442</td>\n",
       "      <td>0.117775</td>\n",
       "      <td>111.350577</td>\n",
       "      <td>0.100346</td>\n",
       "      <td>0.117338</td>\n",
       "      <td>1659.222583</td>\n",
       "      <td>9.877739</td>\n",
       "      <td>9.877739</td>\n",
       "      <td>4.735548</td>\n",
       "      <td>4.749307</td>\n",
       "      <td>27.383861</td>\n",
       "      <td>0.456398</td>\n",
       "    </tr>\n",
       "    <tr>\n",
       "      <th>min</th>\n",
       "      <td>61.000000</td>\n",
       "      <td>3.000000</td>\n",
       "      <td>37.317298</td>\n",
       "      <td>-122.453704</td>\n",
       "      <td>3.000000</td>\n",
       "      <td>37.317298</td>\n",
       "      <td>-122.453704</td>\n",
       "      <td>11.000000</td>\n",
       "      <td>1939.000000</td>\n",
       "      <td>18.000000</td>\n",
       "      <td>0.000000</td>\n",
       "      <td>0.000000</td>\n",
       "      <td>1.016667</td>\n",
       "      <td>0.016944</td>\n",
       "    </tr>\n",
       "    <tr>\n",
       "      <th>25%</th>\n",
       "      <td>323.000000</td>\n",
       "      <td>47.000000</td>\n",
       "      <td>37.770407</td>\n",
       "      <td>-122.411901</td>\n",
       "      <td>44.000000</td>\n",
       "      <td>37.770407</td>\n",
       "      <td>-122.411647</td>\n",
       "      <td>3799.000000</td>\n",
       "      <td>1980.000000</td>\n",
       "      <td>27.000000</td>\n",
       "      <td>9.000000</td>\n",
       "      <td>9.000000</td>\n",
       "      <td>5.383333</td>\n",
       "      <td>0.089722</td>\n",
       "    </tr>\n",
       "    <tr>\n",
       "      <th>50%</th>\n",
       "      <td>511.000000</td>\n",
       "      <td>104.000000</td>\n",
       "      <td>37.780787</td>\n",
       "      <td>-122.398279</td>\n",
       "      <td>101.000000</td>\n",
       "      <td>37.781010</td>\n",
       "      <td>-122.397437</td>\n",
       "      <td>4960.000000</td>\n",
       "      <td>1987.000000</td>\n",
       "      <td>32.000000</td>\n",
       "      <td>14.000000</td>\n",
       "      <td>14.000000</td>\n",
       "      <td>8.516667</td>\n",
       "      <td>0.141944</td>\n",
       "    </tr>\n",
       "    <tr>\n",
       "      <th>75%</th>\n",
       "      <td>789.000000</td>\n",
       "      <td>239.000000</td>\n",
       "      <td>37.797320</td>\n",
       "      <td>-122.283093</td>\n",
       "      <td>238.000000</td>\n",
       "      <td>37.797673</td>\n",
       "      <td>-122.285633</td>\n",
       "      <td>5505.000000</td>\n",
       "      <td>1992.000000</td>\n",
       "      <td>39.000000</td>\n",
       "      <td>17.000000</td>\n",
       "      <td>18.000000</td>\n",
       "      <td>13.150000</td>\n",
       "      <td>0.219167</td>\n",
       "    </tr>\n",
       "    <tr>\n",
       "      <th>max</th>\n",
       "      <td>84548.000000</td>\n",
       "      <td>398.000000</td>\n",
       "      <td>37.880222</td>\n",
       "      <td>-121.874119</td>\n",
       "      <td>398.000000</td>\n",
       "      <td>37.880222</td>\n",
       "      <td>-121.874119</td>\n",
       "      <td>6645.000000</td>\n",
       "      <td>2001.000000</td>\n",
       "      <td>80.000000</td>\n",
       "      <td>23.000000</td>\n",
       "      <td>23.000000</td>\n",
       "      <td>1409.133333</td>\n",
       "      <td>23.485556</td>\n",
       "    </tr>\n",
       "  </tbody>\n",
       "</table>\n",
       "</div>"
      ],
      "text/plain": [
       "        duration_sec  start_station_id  start_station_latitude  \\\n",
       "count  174760.000000     174760.000000           174760.000000   \n",
       "mean      704.309630        139.021172               37.771202   \n",
       "std      1643.031657        111.649138                0.100442   \n",
       "min        61.000000          3.000000               37.317298   \n",
       "25%       323.000000         47.000000               37.770407   \n",
       "50%       511.000000        104.000000               37.780787   \n",
       "75%       789.000000        239.000000               37.797320   \n",
       "max     84548.000000        398.000000               37.880222   \n",
       "\n",
       "       start_station_longitude  end_station_id  end_station_latitude  \\\n",
       "count            174760.000000   174760.000000         174760.000000   \n",
       "mean               -122.351719      136.641217             37.771398   \n",
       "std                   0.117775      111.350577              0.100346   \n",
       "min                -122.453704        3.000000             37.317298   \n",
       "25%                -122.411901       44.000000             37.770407   \n",
       "50%                -122.398279      101.000000             37.781010   \n",
       "75%                -122.283093      238.000000             37.797673   \n",
       "max                -121.874119      398.000000             37.880222   \n",
       "\n",
       "       end_station_longitude        bike_id  member_birth_year            age  \\\n",
       "count          174760.000000  174760.000000      174760.000000  174760.000000   \n",
       "mean             -122.351295    4482.333749        1984.874777      34.125223   \n",
       "std                 0.117338    1659.222583           9.877739       9.877739   \n",
       "min              -122.453704      11.000000        1939.000000      18.000000   \n",
       "25%              -122.411647    3799.000000        1980.000000      27.000000   \n",
       "50%              -122.397437    4960.000000        1987.000000      32.000000   \n",
       "75%              -122.285633    5505.000000        1992.000000      39.000000   \n",
       "max              -121.874119    6645.000000        2001.000000      80.000000   \n",
       "\n",
       "          start_hour       end_hour  duration_minutes  duration_hour  \n",
       "count  174760.000000  174760.000000     174760.000000  174760.000000  \n",
       "mean       13.456100      13.609527         11.738494       0.195642  \n",
       "std         4.735548       4.749307         27.383861       0.456398  \n",
       "min         0.000000       0.000000          1.016667       0.016944  \n",
       "25%         9.000000       9.000000          5.383333       0.089722  \n",
       "50%        14.000000      14.000000          8.516667       0.141944  \n",
       "75%        17.000000      18.000000         13.150000       0.219167  \n",
       "max        23.000000      23.000000       1409.133333      23.485556  "
      ]
     },
     "execution_count": 259,
     "metadata": {},
     "output_type": "execute_result"
    }
   ],
   "source": [
    "df.describe()\n"
   ]
  },
  {
   "cell_type": "code",
   "execution_count": 260,
   "id": "73d92774",
   "metadata": {},
   "outputs": [
    {
     "name": "stdout",
     "output_type": "stream",
     "text": [
      "<class 'pandas.core.frame.DataFrame'>\n",
      "Int64Index: 174760 entries, 0 to 183411\n",
      "Data columns (total 21 columns):\n",
      " #   Column                   Non-Null Count   Dtype         \n",
      "---  ------                   --------------   -----         \n",
      " 0   duration_sec             174760 non-null  int64         \n",
      " 1   start_time               174760 non-null  datetime64[ns]\n",
      " 2   end_time                 174760 non-null  datetime64[ns]\n",
      " 3   start_station_id         174760 non-null  int64         \n",
      " 4   start_station_name       174760 non-null  object        \n",
      " 5   start_station_latitude   174760 non-null  float64       \n",
      " 6   start_station_longitude  174760 non-null  float64       \n",
      " 7   end_station_id           174760 non-null  int64         \n",
      " 8   end_station_name         174760 non-null  object        \n",
      " 9   end_station_latitude     174760 non-null  float64       \n",
      " 10  end_station_longitude    174760 non-null  float64       \n",
      " 11  bike_id                  174760 non-null  int64         \n",
      " 12  user_type                174760 non-null  object        \n",
      " 13  member_birth_year        174760 non-null  int64         \n",
      " 14  member_gender            174760 non-null  object        \n",
      " 15  bike_share_for_all_trip  174760 non-null  object        \n",
      " 16  age                      174760 non-null  int64         \n",
      " 17  start_hour               174760 non-null  int64         \n",
      " 18  end_hour                 174760 non-null  int64         \n",
      " 19  duration_minutes         174760 non-null  float64       \n",
      " 20  duration_hour            174760 non-null  float64       \n",
      "dtypes: datetime64[ns](2), float64(6), int64(8), object(5)\n",
      "memory usage: 29.3+ MB\n"
     ]
    }
   ],
   "source": [
    "df.info()"
   ]
  },
  {
   "cell_type": "markdown",
   "id": "27941dc0",
   "metadata": {},
   "source": [
    "# define\n",
    "will drop all the unnecessary columns and only keep the columns that I will visualize using drop() function"
   ]
  },
  {
   "cell_type": "code",
   "execution_count": 261,
   "id": "7ce0b9fa",
   "metadata": {},
   "outputs": [
    {
     "data": {
      "text/html": [
       "<div>\n",
       "<style scoped>\n",
       "    .dataframe tbody tr th:only-of-type {\n",
       "        vertical-align: middle;\n",
       "    }\n",
       "\n",
       "    .dataframe tbody tr th {\n",
       "        vertical-align: top;\n",
       "    }\n",
       "\n",
       "    .dataframe thead th {\n",
       "        text-align: right;\n",
       "    }\n",
       "</style>\n",
       "<table border=\"1\" class=\"dataframe\">\n",
       "  <thead>\n",
       "    <tr style=\"text-align: right;\">\n",
       "      <th></th>\n",
       "      <th>duration_sec</th>\n",
       "      <th>start_time</th>\n",
       "      <th>end_time</th>\n",
       "      <th>start_station_id</th>\n",
       "      <th>start_station_name</th>\n",
       "      <th>start_station_latitude</th>\n",
       "      <th>start_station_longitude</th>\n",
       "      <th>end_station_id</th>\n",
       "      <th>end_station_name</th>\n",
       "      <th>end_station_latitude</th>\n",
       "      <th>...</th>\n",
       "      <th>bike_id</th>\n",
       "      <th>user_type</th>\n",
       "      <th>member_birth_year</th>\n",
       "      <th>member_gender</th>\n",
       "      <th>bike_share_for_all_trip</th>\n",
       "      <th>age</th>\n",
       "      <th>start_hour</th>\n",
       "      <th>end_hour</th>\n",
       "      <th>duration_minutes</th>\n",
       "      <th>duration_hour</th>\n",
       "    </tr>\n",
       "  </thead>\n",
       "  <tbody>\n",
       "    <tr>\n",
       "      <th>0</th>\n",
       "      <td>52185</td>\n",
       "      <td>2019-02-28 17:32:10.145</td>\n",
       "      <td>2019-03-01 08:01:55.975</td>\n",
       "      <td>21</td>\n",
       "      <td>Montgomery St BART Station (Market St at 2nd St)</td>\n",
       "      <td>37.789625</td>\n",
       "      <td>-122.400811</td>\n",
       "      <td>13</td>\n",
       "      <td>Commercial St at Montgomery St</td>\n",
       "      <td>37.794231</td>\n",
       "      <td>...</td>\n",
       "      <td>4902</td>\n",
       "      <td>Customer</td>\n",
       "      <td>1984</td>\n",
       "      <td>Male</td>\n",
       "      <td>No</td>\n",
       "      <td>35</td>\n",
       "      <td>17</td>\n",
       "      <td>8</td>\n",
       "      <td>869.750000</td>\n",
       "      <td>14.495833</td>\n",
       "    </tr>\n",
       "    <tr>\n",
       "      <th>2</th>\n",
       "      <td>61854</td>\n",
       "      <td>2019-02-28 12:13:13.218</td>\n",
       "      <td>2019-03-01 05:24:08.146</td>\n",
       "      <td>86</td>\n",
       "      <td>Market St at Dolores St</td>\n",
       "      <td>37.769305</td>\n",
       "      <td>-122.426826</td>\n",
       "      <td>3</td>\n",
       "      <td>Powell St BART Station (Market St at 4th St)</td>\n",
       "      <td>37.786375</td>\n",
       "      <td>...</td>\n",
       "      <td>5905</td>\n",
       "      <td>Customer</td>\n",
       "      <td>1972</td>\n",
       "      <td>Male</td>\n",
       "      <td>No</td>\n",
       "      <td>47</td>\n",
       "      <td>12</td>\n",
       "      <td>5</td>\n",
       "      <td>1030.900000</td>\n",
       "      <td>17.181667</td>\n",
       "    </tr>\n",
       "    <tr>\n",
       "      <th>3</th>\n",
       "      <td>36490</td>\n",
       "      <td>2019-02-28 17:54:26.010</td>\n",
       "      <td>2019-03-01 04:02:36.842</td>\n",
       "      <td>375</td>\n",
       "      <td>Grove St at Masonic Ave</td>\n",
       "      <td>37.774836</td>\n",
       "      <td>-122.446546</td>\n",
       "      <td>70</td>\n",
       "      <td>Central Ave at Fell St</td>\n",
       "      <td>37.773311</td>\n",
       "      <td>...</td>\n",
       "      <td>6638</td>\n",
       "      <td>Subscriber</td>\n",
       "      <td>1989</td>\n",
       "      <td>Other</td>\n",
       "      <td>No</td>\n",
       "      <td>30</td>\n",
       "      <td>17</td>\n",
       "      <td>4</td>\n",
       "      <td>608.166667</td>\n",
       "      <td>10.136111</td>\n",
       "    </tr>\n",
       "    <tr>\n",
       "      <th>4</th>\n",
       "      <td>1585</td>\n",
       "      <td>2019-02-28 23:54:18.549</td>\n",
       "      <td>2019-03-01 00:20:44.074</td>\n",
       "      <td>7</td>\n",
       "      <td>Frank H Ogawa Plaza</td>\n",
       "      <td>37.804562</td>\n",
       "      <td>-122.271738</td>\n",
       "      <td>222</td>\n",
       "      <td>10th Ave at E 15th St</td>\n",
       "      <td>37.792714</td>\n",
       "      <td>...</td>\n",
       "      <td>4898</td>\n",
       "      <td>Subscriber</td>\n",
       "      <td>1974</td>\n",
       "      <td>Male</td>\n",
       "      <td>Yes</td>\n",
       "      <td>45</td>\n",
       "      <td>23</td>\n",
       "      <td>0</td>\n",
       "      <td>26.416667</td>\n",
       "      <td>0.440278</td>\n",
       "    </tr>\n",
       "    <tr>\n",
       "      <th>5</th>\n",
       "      <td>1793</td>\n",
       "      <td>2019-02-28 23:49:58.632</td>\n",
       "      <td>2019-03-01 00:19:51.760</td>\n",
       "      <td>93</td>\n",
       "      <td>4th St at Mission Bay Blvd S</td>\n",
       "      <td>37.770407</td>\n",
       "      <td>-122.391198</td>\n",
       "      <td>323</td>\n",
       "      <td>Broadway at Kearny</td>\n",
       "      <td>37.798014</td>\n",
       "      <td>...</td>\n",
       "      <td>5200</td>\n",
       "      <td>Subscriber</td>\n",
       "      <td>1959</td>\n",
       "      <td>Male</td>\n",
       "      <td>No</td>\n",
       "      <td>60</td>\n",
       "      <td>23</td>\n",
       "      <td>0</td>\n",
       "      <td>29.883333</td>\n",
       "      <td>0.498056</td>\n",
       "    </tr>\n",
       "  </tbody>\n",
       "</table>\n",
       "<p>5 rows × 21 columns</p>\n",
       "</div>"
      ],
      "text/plain": [
       "   duration_sec              start_time                end_time  \\\n",
       "0         52185 2019-02-28 17:32:10.145 2019-03-01 08:01:55.975   \n",
       "2         61854 2019-02-28 12:13:13.218 2019-03-01 05:24:08.146   \n",
       "3         36490 2019-02-28 17:54:26.010 2019-03-01 04:02:36.842   \n",
       "4          1585 2019-02-28 23:54:18.549 2019-03-01 00:20:44.074   \n",
       "5          1793 2019-02-28 23:49:58.632 2019-03-01 00:19:51.760   \n",
       "\n",
       "   start_station_id                                start_station_name  \\\n",
       "0                21  Montgomery St BART Station (Market St at 2nd St)   \n",
       "2                86                           Market St at Dolores St   \n",
       "3               375                           Grove St at Masonic Ave   \n",
       "4                 7                               Frank H Ogawa Plaza   \n",
       "5                93                      4th St at Mission Bay Blvd S   \n",
       "\n",
       "   start_station_latitude  start_station_longitude  end_station_id  \\\n",
       "0               37.789625              -122.400811              13   \n",
       "2               37.769305              -122.426826               3   \n",
       "3               37.774836              -122.446546              70   \n",
       "4               37.804562              -122.271738             222   \n",
       "5               37.770407              -122.391198             323   \n",
       "\n",
       "                               end_station_name  end_station_latitude  ...  \\\n",
       "0                Commercial St at Montgomery St             37.794231  ...   \n",
       "2  Powell St BART Station (Market St at 4th St)             37.786375  ...   \n",
       "3                        Central Ave at Fell St             37.773311  ...   \n",
       "4                         10th Ave at E 15th St             37.792714  ...   \n",
       "5                            Broadway at Kearny             37.798014  ...   \n",
       "\n",
       "   bike_id   user_type member_birth_year  member_gender  \\\n",
       "0     4902    Customer              1984           Male   \n",
       "2     5905    Customer              1972           Male   \n",
       "3     6638  Subscriber              1989          Other   \n",
       "4     4898  Subscriber              1974           Male   \n",
       "5     5200  Subscriber              1959           Male   \n",
       "\n",
       "  bike_share_for_all_trip age  start_hour  end_hour  duration_minutes  \\\n",
       "0                      No  35          17         8        869.750000   \n",
       "2                      No  47          12         5       1030.900000   \n",
       "3                      No  30          17         4        608.166667   \n",
       "4                     Yes  45          23         0         26.416667   \n",
       "5                      No  60          23         0         29.883333   \n",
       "\n",
       "   duration_hour  \n",
       "0      14.495833  \n",
       "2      17.181667  \n",
       "3      10.136111  \n",
       "4       0.440278  \n",
       "5       0.498056  \n",
       "\n",
       "[5 rows x 21 columns]"
      ]
     },
     "execution_count": 261,
     "metadata": {},
     "output_type": "execute_result"
    }
   ],
   "source": [
    "df.head()"
   ]
  },
  {
   "cell_type": "code",
   "execution_count": 262,
   "id": "4562c01e",
   "metadata": {},
   "outputs": [],
   "source": [
    "#using drop to remove unwanted columns\n",
    "df = df.drop(['start_station_id','start_station_latitude','start_station_longitude','end_station_id','member_birth_year','end_station_latitude','end_station_longitude','bike_id','member_birth_year'], axis = 1)"
   ]
  },
  {
   "cell_type": "code",
   "execution_count": 263,
   "id": "1fdbbb28",
   "metadata": {},
   "outputs": [],
   "source": [
    "# using round() to round to 2 decimal points\n",
    "df = df.round(2)"
   ]
  },
  {
   "cell_type": "markdown",
   "id": "339806d7",
   "metadata": {},
   "source": [
    "# test"
   ]
  },
  {
   "cell_type": "code",
   "execution_count": 264,
   "id": "383e019f",
   "metadata": {},
   "outputs": [
    {
     "data": {
      "text/html": [
       "<div>\n",
       "<style scoped>\n",
       "    .dataframe tbody tr th:only-of-type {\n",
       "        vertical-align: middle;\n",
       "    }\n",
       "\n",
       "    .dataframe tbody tr th {\n",
       "        vertical-align: top;\n",
       "    }\n",
       "\n",
       "    .dataframe thead th {\n",
       "        text-align: right;\n",
       "    }\n",
       "</style>\n",
       "<table border=\"1\" class=\"dataframe\">\n",
       "  <thead>\n",
       "    <tr style=\"text-align: right;\">\n",
       "      <th></th>\n",
       "      <th>duration_sec</th>\n",
       "      <th>start_time</th>\n",
       "      <th>end_time</th>\n",
       "      <th>start_station_name</th>\n",
       "      <th>end_station_name</th>\n",
       "      <th>user_type</th>\n",
       "      <th>member_gender</th>\n",
       "      <th>bike_share_for_all_trip</th>\n",
       "      <th>age</th>\n",
       "      <th>start_hour</th>\n",
       "      <th>end_hour</th>\n",
       "      <th>duration_minutes</th>\n",
       "      <th>duration_hour</th>\n",
       "    </tr>\n",
       "  </thead>\n",
       "  <tbody>\n",
       "    <tr>\n",
       "      <th>0</th>\n",
       "      <td>52185</td>\n",
       "      <td>2019-02-28 17:32:10.145</td>\n",
       "      <td>2019-03-01 08:01:55.975</td>\n",
       "      <td>Montgomery St BART Station (Market St at 2nd St)</td>\n",
       "      <td>Commercial St at Montgomery St</td>\n",
       "      <td>Customer</td>\n",
       "      <td>Male</td>\n",
       "      <td>No</td>\n",
       "      <td>35</td>\n",
       "      <td>17</td>\n",
       "      <td>8</td>\n",
       "      <td>869.75</td>\n",
       "      <td>14.50</td>\n",
       "    </tr>\n",
       "    <tr>\n",
       "      <th>2</th>\n",
       "      <td>61854</td>\n",
       "      <td>2019-02-28 12:13:13.218</td>\n",
       "      <td>2019-03-01 05:24:08.146</td>\n",
       "      <td>Market St at Dolores St</td>\n",
       "      <td>Powell St BART Station (Market St at 4th St)</td>\n",
       "      <td>Customer</td>\n",
       "      <td>Male</td>\n",
       "      <td>No</td>\n",
       "      <td>47</td>\n",
       "      <td>12</td>\n",
       "      <td>5</td>\n",
       "      <td>1030.90</td>\n",
       "      <td>17.18</td>\n",
       "    </tr>\n",
       "    <tr>\n",
       "      <th>3</th>\n",
       "      <td>36490</td>\n",
       "      <td>2019-02-28 17:54:26.010</td>\n",
       "      <td>2019-03-01 04:02:36.842</td>\n",
       "      <td>Grove St at Masonic Ave</td>\n",
       "      <td>Central Ave at Fell St</td>\n",
       "      <td>Subscriber</td>\n",
       "      <td>Other</td>\n",
       "      <td>No</td>\n",
       "      <td>30</td>\n",
       "      <td>17</td>\n",
       "      <td>4</td>\n",
       "      <td>608.17</td>\n",
       "      <td>10.14</td>\n",
       "    </tr>\n",
       "    <tr>\n",
       "      <th>4</th>\n",
       "      <td>1585</td>\n",
       "      <td>2019-02-28 23:54:18.549</td>\n",
       "      <td>2019-03-01 00:20:44.074</td>\n",
       "      <td>Frank H Ogawa Plaza</td>\n",
       "      <td>10th Ave at E 15th St</td>\n",
       "      <td>Subscriber</td>\n",
       "      <td>Male</td>\n",
       "      <td>Yes</td>\n",
       "      <td>45</td>\n",
       "      <td>23</td>\n",
       "      <td>0</td>\n",
       "      <td>26.42</td>\n",
       "      <td>0.44</td>\n",
       "    </tr>\n",
       "    <tr>\n",
       "      <th>5</th>\n",
       "      <td>1793</td>\n",
       "      <td>2019-02-28 23:49:58.632</td>\n",
       "      <td>2019-03-01 00:19:51.760</td>\n",
       "      <td>4th St at Mission Bay Blvd S</td>\n",
       "      <td>Broadway at Kearny</td>\n",
       "      <td>Subscriber</td>\n",
       "      <td>Male</td>\n",
       "      <td>No</td>\n",
       "      <td>60</td>\n",
       "      <td>23</td>\n",
       "      <td>0</td>\n",
       "      <td>29.88</td>\n",
       "      <td>0.50</td>\n",
       "    </tr>\n",
       "  </tbody>\n",
       "</table>\n",
       "</div>"
      ],
      "text/plain": [
       "   duration_sec              start_time                end_time  \\\n",
       "0         52185 2019-02-28 17:32:10.145 2019-03-01 08:01:55.975   \n",
       "2         61854 2019-02-28 12:13:13.218 2019-03-01 05:24:08.146   \n",
       "3         36490 2019-02-28 17:54:26.010 2019-03-01 04:02:36.842   \n",
       "4          1585 2019-02-28 23:54:18.549 2019-03-01 00:20:44.074   \n",
       "5          1793 2019-02-28 23:49:58.632 2019-03-01 00:19:51.760   \n",
       "\n",
       "                                 start_station_name  \\\n",
       "0  Montgomery St BART Station (Market St at 2nd St)   \n",
       "2                           Market St at Dolores St   \n",
       "3                           Grove St at Masonic Ave   \n",
       "4                               Frank H Ogawa Plaza   \n",
       "5                      4th St at Mission Bay Blvd S   \n",
       "\n",
       "                               end_station_name   user_type member_gender  \\\n",
       "0                Commercial St at Montgomery St    Customer          Male   \n",
       "2  Powell St BART Station (Market St at 4th St)    Customer          Male   \n",
       "3                        Central Ave at Fell St  Subscriber         Other   \n",
       "4                         10th Ave at E 15th St  Subscriber          Male   \n",
       "5                            Broadway at Kearny  Subscriber          Male   \n",
       "\n",
       "  bike_share_for_all_trip  age  start_hour  end_hour  duration_minutes  \\\n",
       "0                      No   35          17         8            869.75   \n",
       "2                      No   47          12         5           1030.90   \n",
       "3                      No   30          17         4            608.17   \n",
       "4                     Yes   45          23         0             26.42   \n",
       "5                      No   60          23         0             29.88   \n",
       "\n",
       "   duration_hour  \n",
       "0          14.50  \n",
       "2          17.18  \n",
       "3          10.14  \n",
       "4           0.44  \n",
       "5           0.50  "
      ]
     },
     "execution_count": 264,
     "metadata": {},
     "output_type": "execute_result"
    }
   ],
   "source": [
    "df.head()"
   ]
  },
  {
   "cell_type": "code",
   "execution_count": 265,
   "id": "70b61081",
   "metadata": {},
   "outputs": [
    {
     "data": {
      "text/plain": [
       "(174760, 13)"
      ]
     },
     "execution_count": 265,
     "metadata": {},
     "output_type": "execute_result"
    }
   ],
   "source": [
    "# dataset shape after wrangeling\n",
    "df.shape"
   ]
  },
  {
   "cell_type": "markdown",
   "id": "8e0195c4",
   "metadata": {},
   "source": [
    "### What is the structure of your dataset?\n",
    "\n",
    "The original dataset before wrangling was 183412 rows and 16 columns.\n",
    "after wrangling it is now 174760 rows and 13 columns.\n",
    "\n",
    "### What is/are the main feature(s) of interest in your dataset?\n",
    "\n",
    "Main intrests are the diffrent aspects of users that are using the platform.\n",
    "\n",
    "### What features in the dataset do you think will help support your investigation into your feature(s) of interest?\n",
    "\n",
    "I will explore the relationships between the diffrent kind of user type, gender and age and also the rates of users using the company's program \"bike_share_for_all_trip\"."
   ]
  },
  {
   "cell_type": "markdown",
   "id": "aeecde53",
   "metadata": {},
   "source": [
    "# Univariate Exploration\n",
    "\n",
    "In this section, investigate distributions of individual variables. If\n",
    "you see unusual points or outliers, take a deeper look to clean things up\n",
    "and prepare yourself to look at relationships between variables.\n"
   ]
  },
  {
   "cell_type": "markdown",
   "id": "9130c47a",
   "metadata": {},
   "source": [
    "# Creating functions for some plots"
   ]
  },
  {
   "cell_type": "code",
   "execution_count": 266,
   "id": "bfe55bf7",
   "metadata": {},
   "outputs": [],
   "source": [
    "#creating a fuction that plots seaborn countplots\n",
    "def countplot(df, xaxis, hue=None, color=None, palette=None, order=None,title=None,xlabel=None,ylabel=None):\n",
    "    \n",
    "    #plot\n",
    "    sns.countplot(data=df, x=xaxis, hue=hue, color=color, palette=palette, order=order)\n",
    "    # setting up the title and x,y labels\n",
    "    plt.title(title)\n",
    "    plt.xlabel(xlabel)\n",
    "    plt.ylabel('Count');\n",
    " "
   ]
  },
  {
   "cell_type": "code",
   "execution_count": 267,
   "id": "a52dfd3e",
   "metadata": {},
   "outputs": [],
   "source": [
    "#creating a fuction that plots seaborn countplots\n",
    "def histplot(df, xaxis, hue=None, color=None, palette=None, bins=10,title=None,xlabel=None,ylabel=None):\n",
    "    \n",
    "    #plot\n",
    "    sns.histplot(data=df, x=xaxis, hue=hue, color=color, palette=palette)\n",
    "    # setting up the title and x,y labels\n",
    "    plt.title(title)\n",
    "    plt.xlabel(xlabel)\n",
    "    plt.ylabel('Count');\n",
    " "
   ]
  },
  {
   "cell_type": "code",
   "execution_count": 268,
   "id": "fef37026",
   "metadata": {},
   "outputs": [],
   "source": [
    "#creating a fuction that plots seaborn barplots\n",
    "def barplot(df, xaxis,yaxis, hue=None, color=None, palette=None, bins=10,title=None,xlabel=None,ylabel=None):\n",
    "    \n",
    "    \n",
    "    #plot\n",
    "    sns.barplot(data=df, x=xaxis,y=yaxis, hue=hue, color=color, palette=palette)\n",
    "    # setting up the title and x,y labels\n",
    "    plt.title(title)\n",
    "    plt.xlabel(xlabel)\n",
    "    plt.ylabel(ylabel);\n",
    " "
   ]
  },
  {
   "cell_type": "code",
   "execution_count": 269,
   "id": "6f301186",
   "metadata": {},
   "outputs": [],
   "source": [
    "#creating a fuction that plots seaborn boxplots\n",
    "def boxplot(df, xaxis,yaxis,title=None,xlabel=None,ylabel=None):\n",
    "    \n",
    "    \n",
    "    #plot\n",
    "    sns.boxplot(data=df, x=xaxis,y=yaxis)\n",
    "    # setting up the title and x,y labels\n",
    "    plt.title(title)\n",
    "    plt.xlabel(xlabel)\n",
    "    plt.ylabel(ylabel);\n",
    " "
   ]
  },
  {
   "cell_type": "code",
   "execution_count": null,
   "id": "2af00b17",
   "metadata": {},
   "outputs": [],
   "source": []
  },
  {
   "cell_type": "markdown",
   "id": "b3e9dd8b",
   "metadata": {},
   "source": [
    "# 1. What is the distribution of User Type?"
   ]
  },
  {
   "cell_type": "code",
   "execution_count": 270,
   "id": "478ac23d",
   "metadata": {},
   "outputs": [
    {
     "data": {
      "image/png": "[encoded data removed]",
      "text/plain": [
       "<Figure size 640x480 with 1 Axes>"
      ]
     },
     "metadata": {},
     "output_type": "display_data"
    }
   ],
   "source": [
    "# will display it using seaborn countplot\n",
    "countplot(df,'user_type',title = 'Distribution of User Type',xlabel ='User Type' )\n"
   ]
  },
  {
   "cell_type": "markdown",
   "id": "bf227b36",
   "metadata": {},
   "source": [
    "# Answer\n",
    "Most users are  subscribers with proximetly 160000 users compared to customers with little less then 20000 users"
   ]
  },
  {
   "cell_type": "markdown",
   "id": "a124c7e2",
   "metadata": {},
   "source": [
    "# 2. What is the distribution of User Gender?"
   ]
  },
  {
   "cell_type": "code",
   "execution_count": 271,
   "id": "d2bfa49b",
   "metadata": {},
   "outputs": [
    {
     "data": {
      "image/png": "[encoded data removed]",
      "text/plain": [
       "<Figure size 640x480 with 1 Axes>"
      ]
     },
     "metadata": {},
     "output_type": "display_data"
    }
   ],
   "source": [
    "# will display it using seaborn countplot\n",
    "sns.countplot(x='member_gender', data=df, order = ['Male', 'Female', 'Other'])\n",
    "plt.title('Distribution Of User Gender')\n",
    "plt.xlabel('User Gender');"
   ]
  },
  {
   "cell_type": "markdown",
   "id": "476f8ef0",
   "metadata": {},
   "source": [
    "# Answer\n",
    "We can see that more then 3 times more males using the platform then females and other gender much less"
   ]
  },
  {
   "cell_type": "markdown",
   "id": "801d787e",
   "metadata": {},
   "source": [
    "# 3. How many Users are using the company's program?"
   ]
  },
  {
   "cell_type": "code",
   "execution_count": 272,
   "id": "0a1726ce",
   "metadata": {},
   "outputs": [
    {
     "data": {
      "image/png": "[encoded data removed]",
      "text/plain": [
       "<Figure size 640x480 with 1 Axes>"
      ]
     },
     "metadata": {},
     "output_type": "display_data"
    }
   ],
   "source": [
    "# will display it using seaborn countplot\n",
    "sns.countplot(x='bike_share_for_all_trip', data=df, order = ['No', 'Yes'])\n",
    "plt.title('Distribution of users that are using the \"Bike Share For All Trip\" program')\n",
    "plt.xlabel('Bike Share For All Trip');"
   ]
  },
  {
   "cell_type": "markdown",
   "id": "14a5a1f6",
   "metadata": {},
   "source": [
    "# Answer\n",
    "The vast majority of users are not taking part of the company's program "
   ]
  },
  {
   "cell_type": "markdown",
   "id": "2f08a6c6",
   "metadata": {},
   "source": [
    "# 4. What is the distribution of  the users' age?"
   ]
  },
  {
   "cell_type": "code",
   "execution_count": 273,
   "id": "899e6795",
   "metadata": {},
   "outputs": [
    {
     "data": {
      "image/png": "[encoded data removed]",
      "text/plain": [
       "<Figure size 640x480 with 1 Axes>"
      ]
     },
     "metadata": {},
     "output_type": "display_data"
    }
   ],
   "source": [
    "# will display it using matplotlib histogram plot\n",
    "plt.hist(df.age, bins = 20)\n",
    "plt.axvline(df.age.median(), color='k', linestyle='dashed', linewidth=1)\n",
    "\n",
    "plt.title(\"Distribution of User's Age\")\n",
    "plt.xlabel(\"User's Age\")\n",
    "plt.ylabel('Count');"
   ]
  },
  {
   "cell_type": "markdown",
   "id": "b04a2ddb",
   "metadata": {},
   "source": [
    "# Answer\n",
    "most of the users are between the ages of 20-40 years old with the most popular age group between 28-32 years old. the median is around 32 years old and from that point there is a gradual decrease in age."
   ]
  },
  {
   "cell_type": "markdown",
   "id": "07828f73",
   "metadata": {},
   "source": [
    "# 5. Does the age column have outlier values?\n",
    "the histogram doesn't show if there are any outliers so i will show it using a boxplot."
   ]
  },
  {
   "cell_type": "code",
   "execution_count": 274,
   "id": "82711232",
   "metadata": {},
   "outputs": [
    {
     "data": {
      "image/png": "[encoded data removed]",
      "text/plain": [
       "<Figure size 640x480 with 1 Axes>"
      ]
     },
     "metadata": {},
     "output_type": "display_data"
    }
   ],
   "source": [
    "# will display it using seaborn boxplot\n",
    "sns.boxplot(x ='age', data=df)\n",
    "plt.title('User Age Distribution');"
   ]
  },
  {
   "cell_type": "markdown",
   "id": "65c96368",
   "metadata": {},
   "source": [
    "# Answer\n",
    "according to the boxplot above we can see that even though in the wrangling process I limited the age to 80 years old there are quite a lot of outlier values from around 58 years old."
   ]
  },
  {
   "cell_type": "markdown",
   "id": "16b6b4be",
   "metadata": {},
   "source": [
    "# 6. what is the distribution of Duration Time in minutes?"
   ]
  },
  {
   "cell_type": "code",
   "execution_count": 275,
   "id": "1678f894",
   "metadata": {},
   "outputs": [
    {
     "data": {
      "text/plain": [
       "''"
      ]
     },
     "execution_count": 275,
     "metadata": {},
     "output_type": "execute_result"
    },
    {
     "data": {
      "image/png": "[encoded data removed]",
      "text/plain": [
       "<Figure size 640x480 with 1 Axes>"
      ]
     },
     "metadata": {},
     "output_type": "display_data"
    }
   ],
   "source": [
    "# will display it using seaborn histogram plot\n",
    "histplot(df,xaxis='duration_minutes',color='blue',bins=60,title='Distribution of Trip Duration In Minutes',xlabel='Trip Duration In Minutes')\n",
    "plt.xlim(0, 60)\n",
    ";"
   ]
  },
  {
   "cell_type": "markdown",
   "id": "5dad782a",
   "metadata": {},
   "source": [
    "# answer\n",
    "most of the trips were between 1-25 minutes"
   ]
  },
  {
   "cell_type": "markdown",
   "id": "e1c5b68f",
   "metadata": {},
   "source": [
    "# 7. What are the popular start hours?"
   ]
  },
  {
   "cell_type": "code",
   "execution_count": 276,
   "id": "3656fef7",
   "metadata": {},
   "outputs": [
    {
     "data": {
      "image/png": "[encoded data removed]",
      "text/plain": [
       "<Figure size 640x480 with 1 Axes>"
      ]
     },
     "metadata": {},
     "output_type": "display_data"
    }
   ],
   "source": [
    "# will display it using seaborn countplot\n",
    "sns.countplot(x='start_hour', data = df)\n",
    "plt.title('Popular Start Times ')\n",
    "plt.xlabel('Start Hour');\n"
   ]
  },
  {
   "cell_type": "markdown",
   "id": "72d954bd",
   "metadata": {},
   "source": [
    "# Answer\n",
    "we can see that there are two peak times in a day: between 7-9 in the morning where 8 o'clock is the most popular hour and between 4-7 in the evening where 5 o'clock is the most popular hour"
   ]
  },
  {
   "cell_type": "markdown",
   "id": "174c07e9",
   "metadata": {},
   "source": [
    "### Discuss the distribution(s) of your variable(s) of interest. Were there any unusual points? Did you need to perform any transformations?\n",
    "\n",
    "* I have found that the distribution of the age was right skewed which means that the median and the mean will fall to the right of the mode.\n",
    "* by looking at the boxplot of the age column I could see that there are quite a lot of outliers.\n",
    "\n",
    "### Of the features you investigated, were there any unusual distributions? Did you perform any operations on the data to tidy, adjust, or change the form of the data? If so, why did you do this?\n",
    "\n",
    "I found outliers on the age column boxplot yet decided not to drop them since I already limited the age to 80 years old when I wrangled the data earlier. It doesn't affect the analysis in my opinion."
   ]
  },
  {
   "cell_type": "markdown",
   "id": "e7925e25",
   "metadata": {},
   "source": [
    "## Bivariate Exploration\n",
    "\n"
   ]
  },
  {
   "cell_type": "markdown",
   "id": "c26a1b12",
   "metadata": {},
   "source": [
    "# 8. How does starting time affects the duration time?"
   ]
  },
  {
   "cell_type": "code",
   "execution_count": 277,
   "id": "52c13def",
   "metadata": {},
   "outputs": [
    {
     "data": {
      "image/png": "[encoded data removed]",
      "text/plain": [
       "<Figure size 640x480 with 1 Axes>"
      ]
     },
     "metadata": {},
     "output_type": "display_data"
    }
   ],
   "source": [
    "# plotting line chart to find peak times \n",
    "df.groupby('start_hour')['duration_minutes'].mean().plot(kind='line')\n",
    "plt.title('Average trip duration per start hour')\n",
    "plt.ylabel('Trip duration in minutes')\n",
    "plt.xlabel('Start hour')\n",
    "plt.xticks([x for x in range(0,25, 2)]);\n"
   ]
  },
  {
   "cell_type": "markdown",
   "id": "d0e55aa4",
   "metadata": {},
   "source": [
    "# Answer\n",
    "Surprising to see that the longest trip times occur when the starting time is at 3am. The results seem a little strange so I decided to explore it further"
   ]
  },
  {
   "cell_type": "code",
   "execution_count": 278,
   "id": "24c1c4cd",
   "metadata": {},
   "outputs": [
    {
     "data": {
      "text/plain": [
       "start_hour\n",
       "3     24.531524\n",
       "2     17.829634\n",
       "13    13.858674\n",
       "14    13.815584\n",
       "15    13.581591\n",
       "0     13.487635\n",
       "11    13.392384\n",
       "23    13.232570\n",
       "12    12.963205\n",
       "16    12.040521\n",
       "21    11.879650\n",
       "17    11.745798\n",
       "10    11.643988\n",
       "4     11.419780\n",
       "19    11.414211\n",
       "20    11.237916\n",
       "8     10.933504\n",
       "1     10.874095\n",
       "9     10.859687\n",
       "18    10.700063\n",
       "7     10.229931\n",
       "22    10.205965\n",
       "5     10.020935\n",
       "6      8.913424\n",
       "Name: duration_minutes, dtype: float64"
      ]
     },
     "execution_count": 278,
     "metadata": {},
     "output_type": "execute_result"
    }
   ],
   "source": [
    "# wanted to see the actual distribution first\n",
    "df.groupby('start_hour')['duration_minutes'].mean().sort_values(ascending=False)\n"
   ]
  },
  {
   "cell_type": "markdown",
   "id": "85c8a142",
   "metadata": {},
   "source": [
    "# 9. I wanted to see if there are some unusual outliers so I plotted a boxplot"
   ]
  },
  {
   "cell_type": "code",
   "execution_count": 279,
   "id": "cdf2f5fe",
   "metadata": {},
   "outputs": [
    {
     "data": {
      "image/png": "[encoded data removed]",
      "text/plain": [
       "<Figure size 640x480 with 1 Axes>"
      ]
     },
     "metadata": {},
     "output_type": "display_data"
    }
   ],
   "source": [
    "# displying it using seaborn boxplot\n",
    "#start_at_3 = df[df['start_hour'] == 3]['duration_minutes']\n",
    "start_at_3 = df[df['start_hour'] == 3]['duration_hour']\n",
    "sns.boxplot(x = start_at_3)\n",
    "plt.title('Duration Time In Hours When Starting Time Is 3am');"
   ]
  },
  {
   "cell_type": "markdown",
   "id": "95168de8",
   "metadata": {},
   "source": [
    "# Answer\n",
    "First I plotted a boxplot to see the duration time in minutes when the starting time is 3am and saw unusual outliers. So I changed the plot and looked at it when duration time is in hours and saw a few times that the duration time was 7, 9 and 13 hours, which caused the mean time to increase and explains the unusual outcome."
   ]
  },
  {
   "cell_type": "markdown",
   "id": "79bfec3c",
   "metadata": {},
   "source": [
    "# 10. What ages are using the Trip For All program?"
   ]
  },
  {
   "cell_type": "code",
   "execution_count": 280,
   "id": "2084d3bc",
   "metadata": {},
   "outputs": [
    {
     "data": {
      "image/png": "[encoded data removed]",
      "text/plain": [
       "<Figure size 640x480 with 1 Axes>"
      ]
     },
     "metadata": {},
     "output_type": "display_data"
    }
   ],
   "source": [
    "# will display it using seaborn histogram and add the second veriable as colors\n",
    "sns.histplot(x = 'age', data= df, bins = 20,  hue = 'bike_share_for_all_trip', palette= 'Blues')\n",
    "plt.title('Trip For All Program Age Distribution');\n"
   ]
  },
  {
   "cell_type": "markdown",
   "id": "e3bd63f0",
   "metadata": {},
   "source": [
    "# Answer\n",
    "Users between the ages of 22 and 27 are using the program the most"
   ]
  },
  {
   "cell_type": "markdown",
   "id": "945e7fd4",
   "metadata": {},
   "source": [
    "# 11.  What is the distribution of the average duration time by gender?"
   ]
  },
  {
   "cell_type": "code",
   "execution_count": 281,
   "id": "69e005d2",
   "metadata": {},
   "outputs": [
    {
     "data": {
      "image/png": "[encoded data removed]",
      "text/plain": [
       "<Figure size 640x480 with 1 Axes>"
      ]
     },
     "metadata": {},
     "output_type": "display_data"
    }
   ],
   "source": [
    "# will display it using seaborn barplot\n",
    "barplot(df,xaxis='member_gender', yaxis='duration_minutes', title='Average duration time by gender',xlabel='Gender',ylabel='Average duration time in minutes' )\n",
    "#sns.barplot(data = df, y = 'duration_minutes', x = 'member_gender')\n",
    "#plt.title('Average duration time by gender')\n",
    "#plt.xlabel('Gender')\n",
    "#plt.ylabel('Average duration time in minutes');"
   ]
  },
  {
   "cell_type": "markdown",
   "id": "d017ddf9",
   "metadata": {},
   "source": [
    "# Answer\n",
    "Females have longer duration times on average compared to males"
   ]
  },
  {
   "cell_type": "markdown",
   "id": "c1f49147",
   "metadata": {},
   "source": [
    "# 12. What is the distribution of average duration time by user type?"
   ]
  },
  {
   "cell_type": "code",
   "execution_count": 282,
   "id": "34479dab",
   "metadata": {},
   "outputs": [
    {
     "data": {
      "image/png": "[encoded data removed]",
      "text/plain": [
       "<Figure size 640x480 with 1 Axes>"
      ]
     },
     "metadata": {},
     "output_type": "display_data"
    }
   ],
   "source": [
    "# will display it using seaborn barplot\n",
    "\n",
    "sns.barplot(data = df, x = 'user_type', y= 'duration_minutes')\n",
    "plt.title('Average duration time in minutes by user type')\n",
    "plt.xlabel('User Type')\n",
    "plt.ylabel('Average duration time in minutes');"
   ]
  },
  {
   "cell_type": "markdown",
   "id": "f8694c4d",
   "metadata": {},
   "source": [
    "# Answer\n",
    "Customers have two times longer duration time on average compared to subscribers. "
   ]
  },
  {
   "cell_type": "markdown",
   "id": "29a5b8f2",
   "metadata": {},
   "source": [
    "# 13. What is the distribution of users' age between the two user types?"
   ]
  },
  {
   "cell_type": "code",
   "execution_count": 283,
   "id": "1f3caac9",
   "metadata": {},
   "outputs": [
    {
     "data": {
      "image/png": "[encoded data removed]",
      "text/plain": [
       "<Figure size 640x480 with 1 Axes>"
      ]
     },
     "metadata": {},
     "output_type": "display_data"
    }
   ],
   "source": [
    "# will display it using seaborn boxplot\n",
    "boxplot(df,xaxis='user_type',yaxis='age',title='Age distribution between user types',xlabel='User Type',ylabel='Age')\n",
    "\n"
   ]
  },
  {
   "cell_type": "markdown",
   "id": "0fa49364",
   "metadata": {},
   "source": [
    "# Answer\n",
    "The age distribution over the two user types seems the same overall. "
   ]
  },
  {
   "cell_type": "markdown",
   "id": "f3dad93e",
   "metadata": {},
   "source": [
    "# 14. What is the distribution of users' ages between the genders?"
   ]
  },
  {
   "cell_type": "code",
   "execution_count": 284,
   "id": "7a27e1e7",
   "metadata": {},
   "outputs": [
    {
     "data": {
      "image/png": "[encoded data removed]",
      "text/plain": [
       "<Figure size 640x480 with 1 Axes>"
      ]
     },
     "metadata": {},
     "output_type": "display_data"
    }
   ],
   "source": [
    "# will display it using seaborn boxplot\n",
    "\n",
    "sns.boxplot(data=df, x = \"member_gender\", y='age')\n",
    "plt.title('Age distribution between genders')\n",
    "plt.xlabel('Gender');\n"
   ]
  },
  {
   "cell_type": "markdown",
   "id": "22d8732c",
   "metadata": {},
   "source": [
    "# Answer\n",
    "No significant difference between the gender age distribution "
   ]
  },
  {
   "cell_type": "markdown",
   "id": "27f97828",
   "metadata": {},
   "source": [
    "### Talk about some of the relationships you observed in this part of the investigation. How did the feature(s) of interest vary with other features in the dataset?\n",
    "\n",
    "* I looked at duration time and start hour and found an unexpected outcome that the longest duration time at start hour of 3am. This led me to a further investigation and I found that there were very large outlier values which can explain it.\n",
    "* On another part of the investigation I saw that duration time for customers is much longer then for subscribers and if I'm       putting the two duration times together it might sugggest a correlation.\n",
    "* Although we could see previously that males are using the platform more then females, when I was looking at duration time         between the genders, females had longer duration times than males.\n",
    "* The company's program, Bike Share For All Trip, doesn't seem to be very popular. I wanted to identify the age groups that are     using it more and found that 22-27 year-olds are using it most. \n",
    "\n",
    "### Did you observe any interesting relationships between the other features (not the main feature(s) of interest)?\n",
    "\n",
    "> No"
   ]
  },
  {
   "cell_type": "markdown",
   "id": "933e8130",
   "metadata": {},
   "source": [
    "## Multivariate Exploration\n",
    "# in this section i would like to investigate other aspects concerning the company's program: \"Bike share for all trip\"\n"
   ]
  },
  {
   "cell_type": "markdown",
   "id": "05ce4b81",
   "metadata": {},
   "source": [
    "# 15. What is the distibution of users that are using the bike share for all program and duration time?"
   ]
  },
  {
   "cell_type": "code",
   "execution_count": 285,
   "id": "c56189da",
   "metadata": {},
   "outputs": [
    {
     "data": {
      "image/png": "[encoded data removed]",
      "text/plain": [
       "<Figure size 640x480 with 1 Axes>"
      ]
     },
     "metadata": {},
     "output_type": "display_data"
    }
   ],
   "source": [
    "# will display it using seaborn barplot\n",
    "sns.barplot(data = df, x = 'user_type', y= 'duration_minutes', hue = 'bike_share_for_all_trip' )\n",
    "plt.title('Bike share for all trip by user type')\n",
    "plt.xlabel('User Type')\n",
    "plt.ylabel('Duration time in minutes');"
   ]
  },
  {
   "cell_type": "markdown",
   "id": "c9d5570e",
   "metadata": {},
   "source": [
    "# Answer\n",
    "We can see that in general customers are having longer duration times then subscribers yet there is an interesting finding that  subscribers that joined the program have a longer duration time."
   ]
  },
  {
   "cell_type": "markdown",
   "id": "bed711be",
   "metadata": {},
   "source": [
    "# 16. How does the bike share for all trip program affect the trip duration and start hour?"
   ]
  },
  {
   "cell_type": "code",
   "execution_count": 286,
   "id": "d9218a4d",
   "metadata": {},
   "outputs": [
    {
     "data": {
      "image/png": "[encoded data removed]",
      "text/plain": [
       "<Figure size 640x480 with 1 Axes>"
      ]
     },
     "metadata": {},
     "output_type": "display_data"
    }
   ],
   "source": [
    "# will display it using seaborn lineplot\n",
    "sns.lineplot(data=df,x='start_hour',y='duration_minutes', hue = 'bike_share_for_all_trip')\n",
    "plt.xticks([x for x in range(0,25, 2)])\n",
    "plt.title('bike share for all trip with trip duration and start hour')\n",
    "plt.xlabel('Start Hour')\n",
    "plt.ylabel('Duration time in minutes');"
   ]
  },
  {
   "cell_type": "markdown",
   "id": "7a2d1688",
   "metadata": {},
   "source": [
    "# Answer\n",
    "Doesn't look like there is a big difference; the popular starting hours are between 1-5am"
   ]
  },
  {
   "cell_type": "markdown",
   "id": "17134cbf",
   "metadata": {},
   "source": [
    "### Talk about some of the relationships you observed in this part of the investigation. Were there features that strengthened each other in terms of looking at your feature(s) of interest?\n",
    "\n",
    "In the last part of the investigation I was trying to better understand the Bike Share For All Trip program and I could see that the reason why the number of yes responses looked very small at first was because it's a program that is only available to subscribers. A little more than half of the subscribers are using the program.  \n",
    "\n",
    "### Were there any interesting or surprising interactions between features?\n",
    "\n",
    "Not more then what I have mentioned above"
   ]
  },
  {
   "cell_type": "markdown",
   "id": "2a49ffc4",
   "metadata": {},
   "source": [
    "## Conclusions\n",
    "\n",
    "# summary of main findings:\n",
    "* There are significantly more males using the platform then females.\n",
    "* Between the two genders, females have a longer duration time.\n",
    "* The subscribers using the program have a longer duration time.\n",
    "* There are 8 times more subscibers using the platform than customers.\n",
    "* Customers have longer duration times then subscribers.\n",
    "* Most of the trips are between 1-25 minutes long.\n",
    "\n",
    "I started with a univirate exploration to get a basic understanding of the distributions in the dataset. From there I investigated relationships between two variables to help me understand how the diffrent aspects in the dataset interact with each other. Then I decided to focus on the Bike Share For All Trip since it could be helpful to the company if we can improve it.\n"
   ]
  },
  {
   "cell_type": "code",
   "execution_count": 287,
   "id": "959f0ca7",
   "metadata": {},
   "outputs": [],
   "source": [
    "df.to_csv('GoBike Clean.csv')"
   ]
  }
 ],
 "metadata": {
  "kernelspec": {
   "display_name": "Python 3 (ipykernel)",
   "language": "python",
   "name": "python3"
  },
  "language_info": {
   "codemirror_mode": {
    "name": "ipython",
    "version": 3
   },
   "file_extension": ".py",
   "mimetype": "text/x-python",
   "name": "python",
   "nbconvert_exporter": "python",
   "pygments_lexer": "ipython3",
   "version": "3.9.13"
  }
 },
 "nbformat": 4,
 "nbformat_minor": 5
}
